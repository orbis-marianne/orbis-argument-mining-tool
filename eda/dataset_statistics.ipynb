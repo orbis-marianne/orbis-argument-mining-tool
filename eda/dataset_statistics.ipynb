{
 "cells": [
  {
   "cell_type": "code",
   "execution_count": 1,
   "id": "701949ef-444d-4ff6-8500-019a07ba9a2a",
   "metadata": {},
   "outputs": [],
   "source": [
    "import gzip\n",
    "import json\n",
    "import pandas as pd\n",
    "\n",
    "from nltk import sent_tokenize, word_tokenize\n",
    "from pathlib import Path\n",
    "from tqdm.notebook import tqdm"
   ]
  },
  {
   "cell_type": "markdown",
   "id": "ca49d96f-cfaa-42bd-b9e6-aaac708f8079",
   "metadata": {},
   "source": [
    "# Load Data"
   ]
  },
  {
   "cell_type": "code",
   "execution_count": 2,
   "id": "bc5d12e0-6265-446e-bf04-37f24395ab64",
   "metadata": {},
   "outputs": [
    {
     "data": {
      "application/vnd.jupyter.widget-view+json": {
       "model_id": "59d8fe921ef24990b61329fdd6f65a02",
       "version_major": 2,
       "version_minor": 0
      },
      "text/plain": [
       "0it [00:00, ?it/s]"
      ]
     },
     "metadata": {},
     "output_type": "display_data"
    }
   ],
   "source": [
    "DATA_FILE = \"../../data/argument-mining-data.jl.gz\"\n",
    "\n",
    "dataset = []\n",
    "with gzip.open(DATA_FILE, \"rt\") as fh:\n",
    "    for line in tqdm(fh):\n",
    "        dataset.append(json.loads(line))\n",
    "\n",
    "dataset = pd.DataFrame(dataset)"
   ]
  },
  {
   "cell_type": "markdown",
   "id": "3ed95466-9467-4cc5-95bc-8d3ff208e9fd",
   "metadata": {},
   "source": [
    "# Statistics"
   ]
  },
  {
   "cell_type": "code",
   "execution_count": 3,
   "id": "ce4003bc-f07d-4d80-b2c7-73f7221b18a8",
   "metadata": {},
   "outputs": [],
   "source": [
    "dataset[\"no_of_sentences\"] = dataset[\"text\"].map(lambda t: len(sent_tokenize(t)))\n",
    "dataset[\"no_of_words\"] = dataset[\"text\"].map(lambda t: len(word_tokenize(t)))"
   ]
  },
  {
   "cell_type": "markdown",
   "id": "d22e1bd6-3419-4f9c-aa55-1fcf9c6c868c",
   "metadata": {},
   "source": [
    "## Sentences Statistics"
   ]
  },
  {
   "cell_type": "markdown",
   "id": "1a2c94b6-c70b-4c60-a177-b8833b188b46",
   "metadata": {},
   "source": [
    "### Descriptive Statistics"
   ]
  },
  {
   "cell_type": "code",
   "execution_count": 4,
   "id": "435275d2-ad66-49f6-a0f2-129dc02a3073",
   "metadata": {},
   "outputs": [
    {
     "data": {
      "text/plain": [
       "count    20590.000000\n",
       "mean         1.971491\n",
       "std          3.784651\n",
       "min          1.000000\n",
       "25%          1.000000\n",
       "50%          1.000000\n",
       "75%          2.000000\n",
       "max        125.000000\n",
       "Name: no_of_sentences, dtype: float64"
      ]
     },
     "execution_count": 4,
     "metadata": {},
     "output_type": "execute_result"
    }
   ],
   "source": [
    "dataset[\"no_of_sentences\"].describe()"
   ]
  },
  {
   "cell_type": "code",
   "execution_count": 5,
   "id": "019066f9-7ec6-4ddb-8c28-86b57413a153",
   "metadata": {},
   "outputs": [
    {
     "data": {
      "text/html": [
       "<div>\n",
       "<style scoped>\n",
       "    .dataframe tbody tr th:only-of-type {\n",
       "        vertical-align: middle;\n",
       "    }\n",
       "\n",
       "    .dataframe tbody tr th {\n",
       "        vertical-align: top;\n",
       "    }\n",
       "\n",
       "    .dataframe thead th {\n",
       "        text-align: right;\n",
       "    }\n",
       "</style>\n",
       "<table border=\"1\" class=\"dataframe\">\n",
       "  <thead>\n",
       "    <tr style=\"text-align: right;\">\n",
       "      <th></th>\n",
       "      <th>count</th>\n",
       "      <th>mean</th>\n",
       "      <th>std</th>\n",
       "      <th>min</th>\n",
       "      <th>25%</th>\n",
       "      <th>50%</th>\n",
       "      <th>75%</th>\n",
       "      <th>max</th>\n",
       "    </tr>\n",
       "    <tr>\n",
       "      <th>dataset</th>\n",
       "      <th></th>\n",
       "      <th></th>\n",
       "      <th></th>\n",
       "      <th></th>\n",
       "      <th></th>\n",
       "      <th></th>\n",
       "      <th></th>\n",
       "      <th></th>\n",
       "    </tr>\n",
       "  </thead>\n",
       "  <tbody>\n",
       "    <tr>\n",
       "      <th>bcause</th>\n",
       "      <td>10086.0</td>\n",
       "      <td>1.714257</td>\n",
       "      <td>1.154006</td>\n",
       "      <td>1.0</td>\n",
       "      <td>1.0</td>\n",
       "      <td>1.0</td>\n",
       "      <td>2.00</td>\n",
       "      <td>22.0</td>\n",
       "    </tr>\n",
       "    <tr>\n",
       "      <th>ceps</th>\n",
       "      <td>48.0</td>\n",
       "      <td>9.291667</td>\n",
       "      <td>6.205551</td>\n",
       "      <td>2.0</td>\n",
       "      <td>4.0</td>\n",
       "      <td>8.0</td>\n",
       "      <td>12.25</td>\n",
       "      <td>28.0</td>\n",
       "    </tr>\n",
       "    <tr>\n",
       "      <th>rie</th>\n",
       "      <td>426.0</td>\n",
       "      <td>7.253521</td>\n",
       "      <td>7.047840</td>\n",
       "      <td>1.0</td>\n",
       "      <td>2.0</td>\n",
       "      <td>5.0</td>\n",
       "      <td>10.00</td>\n",
       "      <td>42.0</td>\n",
       "    </tr>\n",
       "    <tr>\n",
       "      <th>swedish-parliament</th>\n",
       "      <td>477.0</td>\n",
       "      <td>12.125786</td>\n",
       "      <td>15.559351</td>\n",
       "      <td>1.0</td>\n",
       "      <td>3.0</td>\n",
       "      <td>7.0</td>\n",
       "      <td>13.00</td>\n",
       "      <td>90.0</td>\n",
       "    </tr>\n",
       "    <tr>\n",
       "      <th>taejae-academy</th>\n",
       "      <td>103.0</td>\n",
       "      <td>15.330097</td>\n",
       "      <td>22.261101</td>\n",
       "      <td>1.0</td>\n",
       "      <td>2.0</td>\n",
       "      <td>7.0</td>\n",
       "      <td>18.50</td>\n",
       "      <td>125.0</td>\n",
       "    </tr>\n",
       "    <tr>\n",
       "      <th>touche-23</th>\n",
       "      <td>9450.0</td>\n",
       "      <td>1.312593</td>\n",
       "      <td>0.795705</td>\n",
       "      <td>1.0</td>\n",
       "      <td>1.0</td>\n",
       "      <td>1.0</td>\n",
       "      <td>1.00</td>\n",
       "      <td>10.0</td>\n",
       "    </tr>\n",
       "  </tbody>\n",
       "</table>\n",
       "</div>"
      ],
      "text/plain": [
       "                      count       mean        std  min  25%  50%    75%    max\n",
       "dataset                                                                       \n",
       "bcause              10086.0   1.714257   1.154006  1.0  1.0  1.0   2.00   22.0\n",
       "ceps                   48.0   9.291667   6.205551  2.0  4.0  8.0  12.25   28.0\n",
       "rie                   426.0   7.253521   7.047840  1.0  2.0  5.0  10.00   42.0\n",
       "swedish-parliament    477.0  12.125786  15.559351  1.0  3.0  7.0  13.00   90.0\n",
       "taejae-academy        103.0  15.330097  22.261101  1.0  2.0  7.0  18.50  125.0\n",
       "touche-23            9450.0   1.312593   0.795705  1.0  1.0  1.0   1.00   10.0"
      ]
     },
     "execution_count": 5,
     "metadata": {},
     "output_type": "execute_result"
    }
   ],
   "source": [
    "dataset.groupby(\"dataset\")[\"no_of_sentences\"].describe()"
   ]
  },
  {
   "cell_type": "markdown",
   "id": "8b866c24-af09-42b7-834c-cbc1e6b34765",
   "metadata": {},
   "source": [
    "### Total Sentences"
   ]
  },
  {
   "cell_type": "code",
   "execution_count": 6,
   "id": "fbe401c0-390f-421b-991c-7ac49302f421",
   "metadata": {},
   "outputs": [
    {
     "data": {
      "text/plain": [
       "40593"
      ]
     },
     "execution_count": 6,
     "metadata": {},
     "output_type": "execute_result"
    }
   ],
   "source": [
    "dataset[\"no_of_sentences\"].sum()"
   ]
  },
  {
   "cell_type": "code",
   "execution_count": 7,
   "id": "7d24188a-daaf-4ee5-a044-6584e1753a12",
   "metadata": {},
   "outputs": [
    {
     "data": {
      "text/plain": [
       "dataset\n",
       "bcause                17290\n",
       "ceps                    446\n",
       "rie                    3090\n",
       "swedish-parliament     5784\n",
       "taejae-academy         1579\n",
       "touche-23             12404\n",
       "Name: no_of_sentences, dtype: int64"
      ]
     },
     "execution_count": 7,
     "metadata": {},
     "output_type": "execute_result"
    }
   ],
   "source": [
    "dataset.groupby(\"dataset\")[\"no_of_sentences\"].sum()"
   ]
  },
  {
   "cell_type": "markdown",
   "id": "bd812390-52af-4c89-a266-684cda8578b5",
   "metadata": {},
   "source": [
    "## Words Statistics"
   ]
  },
  {
   "cell_type": "markdown",
   "id": "f712b34c-9c4a-4b81-9665-8ab789c854b8",
   "metadata": {},
   "source": [
    "### Descriptive Statistics"
   ]
  },
  {
   "cell_type": "code",
   "execution_count": 8,
   "id": "70fc59bf-3f49-469b-ac75-a2f7d4c25546",
   "metadata": {},
   "outputs": [
    {
     "data": {
      "text/plain": [
       "count    20590.000000\n",
       "mean        36.864352\n",
       "std         80.321764\n",
       "min          1.000000\n",
       "25%         15.000000\n",
       "50%         24.000000\n",
       "75%         37.000000\n",
       "max       2539.000000\n",
       "Name: no_of_words, dtype: float64"
      ]
     },
     "execution_count": 8,
     "metadata": {},
     "output_type": "execute_result"
    }
   ],
   "source": [
    "dataset[\"no_of_words\"].describe()"
   ]
  },
  {
   "cell_type": "code",
   "execution_count": 9,
   "id": "14548c2b-cac5-485a-94f9-c18ef9eb3608",
   "metadata": {},
   "outputs": [
    {
     "data": {
      "text/html": [
       "<div>\n",
       "<style scoped>\n",
       "    .dataframe tbody tr th:only-of-type {\n",
       "        vertical-align: middle;\n",
       "    }\n",
       "\n",
       "    .dataframe tbody tr th {\n",
       "        vertical-align: top;\n",
       "    }\n",
       "\n",
       "    .dataframe thead th {\n",
       "        text-align: right;\n",
       "    }\n",
       "</style>\n",
       "<table border=\"1\" class=\"dataframe\">\n",
       "  <thead>\n",
       "    <tr style=\"text-align: right;\">\n",
       "      <th></th>\n",
       "      <th>count</th>\n",
       "      <th>mean</th>\n",
       "      <th>std</th>\n",
       "      <th>min</th>\n",
       "      <th>25%</th>\n",
       "      <th>50%</th>\n",
       "      <th>75%</th>\n",
       "      <th>max</th>\n",
       "    </tr>\n",
       "    <tr>\n",
       "      <th>dataset</th>\n",
       "      <th></th>\n",
       "      <th></th>\n",
       "      <th></th>\n",
       "      <th></th>\n",
       "      <th></th>\n",
       "      <th></th>\n",
       "      <th></th>\n",
       "      <th></th>\n",
       "    </tr>\n",
       "  </thead>\n",
       "  <tbody>\n",
       "    <tr>\n",
       "      <th>bcause</th>\n",
       "      <td>10086.0</td>\n",
       "      <td>33.475114</td>\n",
       "      <td>25.626208</td>\n",
       "      <td>1.0</td>\n",
       "      <td>17.00</td>\n",
       "      <td>30.0</td>\n",
       "      <td>43.00</td>\n",
       "      <td>473.0</td>\n",
       "    </tr>\n",
       "    <tr>\n",
       "      <th>ceps</th>\n",
       "      <td>48.0</td>\n",
       "      <td>177.979167</td>\n",
       "      <td>114.989822</td>\n",
       "      <td>33.0</td>\n",
       "      <td>86.75</td>\n",
       "      <td>156.5</td>\n",
       "      <td>250.75</td>\n",
       "      <td>488.0</td>\n",
       "    </tr>\n",
       "    <tr>\n",
       "      <th>rie</th>\n",
       "      <td>426.0</td>\n",
       "      <td>124.171362</td>\n",
       "      <td>148.716204</td>\n",
       "      <td>2.0</td>\n",
       "      <td>19.00</td>\n",
       "      <td>65.5</td>\n",
       "      <td>183.50</td>\n",
       "      <td>923.0</td>\n",
       "    </tr>\n",
       "    <tr>\n",
       "      <th>swedish-parliament</th>\n",
       "      <td>477.0</td>\n",
       "      <td>234.473795</td>\n",
       "      <td>337.816353</td>\n",
       "      <td>2.0</td>\n",
       "      <td>34.00</td>\n",
       "      <td>127.0</td>\n",
       "      <td>264.00</td>\n",
       "      <td>1868.0</td>\n",
       "    </tr>\n",
       "    <tr>\n",
       "      <th>taejae-academy</th>\n",
       "      <td>103.0</td>\n",
       "      <td>335.048544</td>\n",
       "      <td>502.431292</td>\n",
       "      <td>4.0</td>\n",
       "      <td>25.00</td>\n",
       "      <td>168.0</td>\n",
       "      <td>403.50</td>\n",
       "      <td>2539.0</td>\n",
       "    </tr>\n",
       "    <tr>\n",
       "      <th>touche-23</th>\n",
       "      <td>9450.0</td>\n",
       "      <td>22.604550</td>\n",
       "      <td>14.883067</td>\n",
       "      <td>4.0</td>\n",
       "      <td>13.00</td>\n",
       "      <td>19.0</td>\n",
       "      <td>27.00</td>\n",
       "      <td>164.0</td>\n",
       "    </tr>\n",
       "  </tbody>\n",
       "</table>\n",
       "</div>"
      ],
      "text/plain": [
       "                      count        mean         std   min    25%    50%  \\\n",
       "dataset                                                                   \n",
       "bcause              10086.0   33.475114   25.626208   1.0  17.00   30.0   \n",
       "ceps                   48.0  177.979167  114.989822  33.0  86.75  156.5   \n",
       "rie                   426.0  124.171362  148.716204   2.0  19.00   65.5   \n",
       "swedish-parliament    477.0  234.473795  337.816353   2.0  34.00  127.0   \n",
       "taejae-academy        103.0  335.048544  502.431292   4.0  25.00  168.0   \n",
       "touche-23            9450.0   22.604550   14.883067   4.0  13.00   19.0   \n",
       "\n",
       "                       75%     max  \n",
       "dataset                             \n",
       "bcause               43.00   473.0  \n",
       "ceps                250.75   488.0  \n",
       "rie                 183.50   923.0  \n",
       "swedish-parliament  264.00  1868.0  \n",
       "taejae-academy      403.50  2539.0  \n",
       "touche-23            27.00   164.0  "
      ]
     },
     "execution_count": 9,
     "metadata": {},
     "output_type": "execute_result"
    }
   ],
   "source": [
    "dataset.groupby(\"dataset\")[\"no_of_words\"].describe()"
   ]
  },
  {
   "cell_type": "markdown",
   "id": "d244ccb0-dbc3-46c6-9b3b-64761aad9f8e",
   "metadata": {},
   "source": [
    "### Total Words"
   ]
  },
  {
   "cell_type": "code",
   "execution_count": 10,
   "id": "0edc98c4-7454-4662-8796-e721531cb6a5",
   "metadata": {},
   "outputs": [
    {
     "data": {
      "text/plain": [
       "759037"
      ]
     },
     "execution_count": 10,
     "metadata": {},
     "output_type": "execute_result"
    }
   ],
   "source": [
    "dataset[\"no_of_words\"].sum()"
   ]
  },
  {
   "cell_type": "code",
   "execution_count": 11,
   "id": "8ba7a97e-20fc-499c-a5fd-d8dd17138998",
   "metadata": {},
   "outputs": [
    {
     "data": {
      "text/plain": [
       "dataset\n",
       "bcause                337630\n",
       "ceps                    8543\n",
       "rie                    52897\n",
       "swedish-parliament    111844\n",
       "taejae-academy         34510\n",
       "touche-23             213613\n",
       "Name: no_of_words, dtype: int64"
      ]
     },
     "execution_count": 11,
     "metadata": {},
     "output_type": "execute_result"
    }
   ],
   "source": [
    "dataset.groupby(\"dataset\")[\"no_of_words\"].sum()"
   ]
  }
 ],
 "metadata": {
  "kernelspec": {
   "display_name": "Python 3 (ipykernel)",
   "language": "python",
   "name": "python3"
  },
  "language_info": {
   "codemirror_mode": {
    "name": "ipython",
    "version": 3
   },
   "file_extension": ".py",
   "mimetype": "text/x-python",
   "name": "python",
   "nbconvert_exporter": "python",
   "pygments_lexer": "ipython3",
   "version": "3.11.1"
  }
 },
 "nbformat": 4,
 "nbformat_minor": 5
}
