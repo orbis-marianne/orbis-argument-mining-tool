{
 "cells": [
  {
   "cell_type": "markdown",
   "id": "76154fac-06c8-4155-9ac3-575959625145",
   "metadata": {},
   "source": [
    "# Swedish Parliament Process\n",
    "\n",
    "This notebook process the data coming from the swedish parliament."
   ]
  },
  {
   "cell_type": "code",
   "execution_count": null,
   "id": "17432b3c-7411-4c56-bf02-c358cd12cb0c",
   "metadata": {},
   "outputs": [],
   "source": [
    "import json\n",
    "import unicodedata\n",
    "\n",
    "from pathlib import Path\n",
    "from xxhash import xxh64_hexdigest"
   ]
  },
  {
   "cell_type": "code",
   "execution_count": null,
   "id": "03ef5a1b-b81c-45ef-a7a8-8a1f19ec707b",
   "metadata": {},
   "outputs": [],
   "source": [
    "def hash_text(text: str) -> str:\n",
    "    text = \"\".join(text.strip().lower().split())\n",
    "    return xxh64_hexdigest(text, seed=42)"
   ]
  },
  {
   "cell_type": "code",
   "execution_count": null,
   "id": "8a1251c2-bb5a-446c-98ea-12cef729a2ba",
   "metadata": {},
   "outputs": [],
   "source": [
    "DATA_DIR = Path(\"../../data/swedish-parliament/\")\n",
    "INPUT_DIR = DATA_DIR / \"anonymized\"\n",
    "OUTPUT_DIR = DATA_DIR / \"clean\""
   ]
  },
  {
   "cell_type": "code",
   "execution_count": null,
   "id": "385f75b6-1a4a-473d-aeb3-fbc6d9f75687",
   "metadata": {},
   "outputs": [],
   "source": [
    "for input_file in INPUT_DIR.glob(\"*.txt\"):\n",
    "    with open(input_file, \"rt\", encoding=\"utf-8-sig\") as fh:\n",
    "        raw_text = [\n",
    "            unicodedata.normalize(\"NFKD\", \" \".join(line.strip().split()))\n",
    "            for line in fh.readlines()\n",
    "            if line.strip()\n",
    "        ]\n",
    "\n",
    "    json_document = []\n",
    "    md_document = []\n",
    "\n",
    "    for line in raw_text:\n",
    "        speaker, text = line.split(\" \", 1)\n",
    "        json_document.append({\"speaker\": speaker.rstrip(\":\"), \"text\": text})\n",
    "        md_document.append(f\"*{speaker}* {text}\")\n",
    "\n",
    "    with open(OUTPUT_DIR / input_file.name.replace(\".txt\", \".json\"), \"wt\") as fh:\n",
    "        json.dump(json_document, fh)\n",
    "\n",
    "    with open(OUTPUT_DIR / input_file.name.replace(\".txt\", \".markdown\"), \"wt\") as fh:\n",
    "        print(\"\\n\".join(md_document), file=fh)"
   ]
  },
  {
   "cell_type": "code",
   "execution_count": null,
   "id": "a4fcc7e6-bb92-4035-b411-2670dff1db7b",
   "metadata": {},
   "outputs": [],
   "source": [
    "def clean_corpus(directory, output_filename, dataset):\n",
    "    with open(directory / output_filename, \"wt\") as fho:\n",
    "        for input_file in sorted((directory / \"clean\").glob(\"*.json\")):\n",
    "            with open(input_file, \"rt\") as fhi:\n",
    "                data = json.load(fhi)\n",
    "\n",
    "            for lidx, line in enumerate(data, start=1):\n",
    "                clean_node = {\n",
    "                    \"dataset\": dataset,\n",
    "                    \"id\": hash_text(line[\"speaker\"] + line[\"text\"]),\n",
    "                    \"text\": line[\"text\"],\n",
    "                    \"metadata\": {\n",
    "                        \"debate\": input_file.name.replace(\".json\", \"\"),\n",
    "                        \"author\": line[\"speaker\"],\n",
    "                        \"line\": lidx,\n",
    "                    },\n",
    "                }\n",
    "                print(json.dumps(clean_node), file=fho)\n",
    "\n",
    "\n",
    "clean_corpus(DATA_DIR, \"swedish-parliament-data.jl\", \"swedish-parliament\")"
   ]
  }
 ],
 "metadata": {
  "kernelspec": {
   "display_name": "Python 3 (ipykernel)",
   "language": "python",
   "name": "python3"
  },
  "language_info": {
   "codemirror_mode": {
    "name": "ipython",
    "version": 3
   },
   "file_extension": ".py",
   "mimetype": "text/x-python",
   "name": "python",
   "nbconvert_exporter": "python",
   "pygments_lexer": "ipython3",
   "version": "3.11.1"
  }
 },
 "nbformat": 4,
 "nbformat_minor": 5
}
