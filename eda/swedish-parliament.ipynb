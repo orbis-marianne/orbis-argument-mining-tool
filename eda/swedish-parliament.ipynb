{
 "cells": [
  {
   "cell_type": "code",
   "execution_count": 1,
   "id": "17432b3c-7411-4c56-bf02-c358cd12cb0c",
   "metadata": {},
   "outputs": [],
   "source": [
    "import json\n",
    "import unicodedata\n",
    "\n",
    "from pathlib import Path"
   ]
  },
  {
   "cell_type": "code",
   "execution_count": 2,
   "id": "8a1251c2-bb5a-446c-98ea-12cef729a2ba",
   "metadata": {},
   "outputs": [],
   "source": [
    "DATA_DIR = Path(\"../../data/swedish-parliament/\")\n",
    "INPUT_DIR = DATA_DIR / \"anonymized\"\n",
    "OUTPUT_DIR = DATA_DIR / \"clean\""
   ]
  },
  {
   "cell_type": "code",
   "execution_count": 3,
   "id": "385f75b6-1a4a-473d-aeb3-fbc6d9f75687",
   "metadata": {},
   "outputs": [],
   "source": [
    "for input_file in INPUT_DIR.glob(\"*.txt\"):\n",
    "    with open(input_file, \"rt\", encoding=\"utf-8-sig\") as fh:\n",
    "        raw_text = [unicodedata.normalize(\"NFKD\", \" \".join(line.strip().split())) for line in fh.readlines() if line.strip()]\n",
    "\n",
    "    json_document = []\n",
    "    md_document = []\n",
    "\n",
    "    for line in raw_text:\n",
    "        speaker, text = line.split(\" \", 1)\n",
    "        json_document.append({\n",
    "            \"speaker\": speaker.rstrip(\":\"),\n",
    "            \"text\": text\n",
    "        })\n",
    "        md_document.append(f\"*{speaker}* {text}\")\n",
    "\n",
    "    with open(OUTPUT_DIR / input_file.name.replace(\".txt\", \".json\"), \"wt\") as fh:\n",
    "        json.dump(json_document, fh)\n",
    "\n",
    "    with open(OUTPUT_DIR / input_file.name.replace(\".txt\", \".markdown\"), \"wt\") as fh:\n",
    "        print(\"\\n\".join(md_document), file=fh)"
   ]
  }
 ],
 "metadata": {
  "kernelspec": {
   "display_name": "Python 3 (ipykernel)",
   "language": "python",
   "name": "python3"
  },
  "language_info": {
   "codemirror_mode": {
    "name": "ipython",
    "version": 3
   },
   "file_extension": ".py",
   "mimetype": "text/x-python",
   "name": "python",
   "nbconvert_exporter": "python",
   "pygments_lexer": "ipython3",
   "version": "3.10.8"
  }
 },
 "nbformat": 4,
 "nbformat_minor": 5
}
