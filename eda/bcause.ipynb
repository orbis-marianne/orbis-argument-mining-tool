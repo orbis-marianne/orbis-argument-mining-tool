{
 "cells": [
  {
   "cell_type": "markdown",
   "id": "0040812c-3b42-4fba-b71e-009b07ac9759",
   "metadata": {},
   "source": [
    "# Notebook to Process the BCause Dataset"
   ]
  },
  {
   "cell_type": "markdown",
   "id": "e7a70ce7-cfed-456b-bb7b-40147cabf3cb",
   "metadata": {},
   "source": [
    "Get the \"CONVERTED\" csv files from the [BCause Dumps Directory](https://drive.google.com/drive/folders/1Y4mIT-2jjLfEA7p4RN6c2f39QC9qPM_S)"
   ]
  },
  {
   "cell_type": "code",
   "execution_count": null,
   "id": "10eedfbe-51e1-4fab-9734-47f9894cdf24",
   "metadata": {},
   "outputs": [],
   "source": [
    "import csv\n",
    "import json\n",
    "import pandas as pd\n",
    "import unicodedata\n",
    "\n",
    "from IPython.display import display\n",
    "from pathlib import Path\n",
    "from tqdm.notebook import tqdm"
   ]
  },
  {
   "cell_type": "code",
   "execution_count": null,
   "id": "6a54231b-4470-4ddc-b59a-85519697e89d",
   "metadata": {},
   "outputs": [],
   "source": [
    "DATA_PATH = Path(\"../../data/bcause/\")"
   ]
  },
  {
   "cell_type": "markdown",
   "id": "cf9ac9b1-4a6a-4a1d-a47b-097480a4b05d",
   "metadata": {},
   "source": [
    "# Data Loading"
   ]
  },
  {
   "cell_type": "code",
   "execution_count": null,
   "id": "ecdd401d-0416-41a6-924e-e5d0cb0faaaa",
   "metadata": {},
   "outputs": [],
   "source": [
    "data = []\n",
    "\n",
    "for csv in sorted(DATA_PATH.glob(\"raw/*.csv\")):\n",
    "    if \"unina\" in csv.name:\n",
    "        # Ignore the ones in Italian\n",
    "        continue\n",
    "    df = pd.read_csv(csv).iloc[:, 1:]  # Remove index column\n",
    "    df.insert(0, \"filename\", csv.name)\n",
    "    data.append(df)\n",
    "\n",
    "data = pd.concat(data, ignore_index=True)"
   ]
  },
  {
   "cell_type": "markdown",
   "id": "8d9676e9-9e59-4516-8730-55f929b5b2db",
   "metadata": {},
   "source": [
    "# Data Cleaning"
   ]
  },
  {
   "cell_type": "code",
   "execution_count": null,
   "id": "c8371666-8289-4983-9e78-a6a6a7c756b0",
   "metadata": {},
   "outputs": [],
   "source": [
    "data = data.replace(\n",
    "    r\"\\r+|\\n+|\\t+\", \" \", regex=True\n",
    ")  # Replace tabs/newlines/carriage returns with plain space\n",
    "for col in data.columns:\n",
    "    data[col] = data[col].str.strip()\n",
    "\n",
    "# Remove all the data points with debate title or node text null or empty\n",
    "data = data[\n",
    "    data.debate_title.notnull()\n",
    "    & (data.debate_title.str.strip() != \"\")\n",
    "    & data.node_text.notnull()\n",
    "    & (data.node_text.str.strip() != \"\")\n",
    "]\n",
    "\n",
    "data.info()"
   ]
  },
  {
   "cell_type": "code",
   "execution_count": null,
   "id": "4de13486-8040-42cd-abcb-d78364716c3d",
   "metadata": {},
   "outputs": [],
   "source": [
    "node_type_map = {\n",
    "    \"POSITION\": \"Position\",\n",
    "    \"OPPOSING ARGUMENT\": \"Attack\",\n",
    "    \"SUPPORTING ARGUMENT\": \"Support\",\n",
    "}\n",
    "\n",
    "data[\"mapped_node_type\"] = data[\"node_type\"].map(node_type_map)"
   ]
  },
  {
   "cell_type": "markdown",
   "id": "576e1587-0259-412f-8f11-effb977f22cd",
   "metadata": {},
   "source": [
    "## Clearing invalid debates\n",
    "\n",
    "Remove all debates that were built for testing, have less than 5 nodes or aren't in English."
   ]
  },
  {
   "cell_type": "code",
   "execution_count": null,
   "id": "2f6f7b71-5ead-4717-9e85-bc9f37ee6a00",
   "metadata": {},
   "outputs": [],
   "source": [
    "debate_count = data[\"debate_id\"].value_counts()\n",
    "invalid_debate = debate_count[debate_count < 5].index.to_list()"
   ]
  },
  {
   "cell_type": "code",
   "execution_count": null,
   "id": "277b4033-fc60-43a7-8151-0e1d9ea71aad",
   "metadata": {},
   "outputs": [],
   "source": [
    "valid_data = data[~data[\"debate_id\"].isin(invalid_debate)]\n",
    "valid_data.head()"
   ]
  },
  {
   "cell_type": "code",
   "execution_count": null,
   "id": "50b3bede-2482-4434-bde7-203e25d922bf",
   "metadata": {},
   "outputs": [],
   "source": [
    "debate_titles = valid_data[\"debate_title\"].value_counts().reset_index()\n",
    "with pd.option_context(\"display.max_colwidth\", None):\n",
    "    display(debate_titles)"
   ]
  },
  {
   "cell_type": "markdown",
   "id": "baf55d17-4a96-4289-9fdf-0285b012a068",
   "metadata": {},
   "source": [
    "Remove the \"test\" debates and the one in greek."
   ]
  },
  {
   "cell_type": "code",
   "execution_count": null,
   "id": "a42889b1-5820-4665-ad27-361239e5d887",
   "metadata": {},
   "outputs": [],
   "source": [
    "invalid_titles = debate_titles.loc[[5, 10, 11], \"debate_title\"]\n",
    "valid_data = valid_data[~valid_data[\"debate_title\"].isin(invalid_titles)]"
   ]
  },
  {
   "cell_type": "code",
   "execution_count": null,
   "id": "f17f33c5-4b26-4194-aef3-8f03756da89a",
   "metadata": {},
   "outputs": [],
   "source": [
    "valid_data.info()"
   ]
  },
  {
   "cell_type": "code",
   "execution_count": null,
   "id": "d08b5ee1-d29f-4bc8-8853-562e4746bf51",
   "metadata": {},
   "outputs": [],
   "source": [
    "valid_data.filename.value_counts()"
   ]
  },
  {
   "cell_type": "markdown",
   "id": "73696227-309f-4735-b4a0-02d1da74fa7e",
   "metadata": {},
   "source": [
    "## Transformation\n",
    "\n",
    "We proceed to transform this data into a more standard dataset"
   ]
  },
  {
   "cell_type": "code",
   "execution_count": null,
   "id": "9abf3a4f-1932-44ec-af89-0e136b670c34",
   "metadata": {},
   "outputs": [],
   "source": [
    "with open(DATA_PATH / \"bcause-data.jl\", \"wt\") as fh:\n",
    "    for nidx, node in valid_data.iterrows():\n",
    "        clean_node = {\n",
    "            \"dataset\": \"bcause\",\n",
    "            \"id\": node[\"node_id\"],\n",
    "            \"text\": unicodedata.normalize(\"NFKD\", \" \".join(node[\"node_text\"].strip().split())),\n",
    "            \"metadata\": {\n",
    "                \"filename\": node[\"filename\"],\n",
    "                \"author\": node[\"node_author_id\"],\n",
    "                \"debate\": node[\"debate_title\"],\n",
    "                \"type\": node[\"mapped_node_type\"],\n",
    "                \"related_to\": node[\"node_connected_to\"],\n",
    "            },\n",
    "        }\n",
    "        print(json.dumps(clean_node), file=fh)"
   ]
  }
 ],
 "metadata": {
  "kernelspec": {
   "display_name": "Python 3 (ipykernel)",
   "language": "python",
   "name": "python3"
  },
  "language_info": {
   "codemirror_mode": {
    "name": "ipython",
    "version": 3
   },
   "file_extension": ".py",
   "mimetype": "text/x-python",
   "name": "python",
   "nbconvert_exporter": "python",
   "pygments_lexer": "ipython3",
   "version": "3.11.1"
  }
 },
 "nbformat": 4,
 "nbformat_minor": 5
}
