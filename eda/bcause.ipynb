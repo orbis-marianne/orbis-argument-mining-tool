{
 "cells": [
  {
   "cell_type": "markdown",
   "id": "0040812c-3b42-4fba-b71e-009b07ac9759",
   "metadata": {},
   "source": [
    "# Notebook to Process the BCause Dataset"
   ]
  },
  {
   "cell_type": "markdown",
   "id": "e7a70ce7-cfed-456b-bb7b-40147cabf3cb",
   "metadata": {},
   "source": [
    "Get the \"CONVERTED\" csv files from the [BCause Dumps Directory](https://drive.google.com/drive/folders/1Y4mIT-2jjLfEA7p4RN6c2f39QC9qPM_S)"
   ]
  },
  {
   "cell_type": "code",
   "execution_count": null,
   "id": "10eedfbe-51e1-4fab-9734-47f9894cdf24",
   "metadata": {},
   "outputs": [],
   "source": [
    "import csv\n",
    "import json\n",
    "import pandas as pd\n",
    "import unicodedata\n",
    "\n",
    "from IPython.display import display\n",
    "from pathlib import Path\n",
    "from tqdm.notebook import tqdm"
   ]
  },
  {
   "cell_type": "code",
   "execution_count": null,
   "id": "6a54231b-4470-4ddc-b59a-85519697e89d",
   "metadata": {},
   "outputs": [],
   "source": [
    "DATA_PATH = Path(\"../../data/bcause/\")"
   ]
  },
  {
   "cell_type": "markdown",
   "id": "cf9ac9b1-4a6a-4a1d-a47b-097480a4b05d",
   "metadata": {},
   "source": [
    "# Data Loading"
   ]
  },
  {
   "cell_type": "code",
   "execution_count": null,
   "id": "ecdd401d-0416-41a6-924e-e5d0cb0faaaa",
   "metadata": {},
   "outputs": [],
   "source": [
    "data = []\n",
    "\n",
    "for csv in sorted(DATA_PATH.glob(\"raw/*.csv\")):\n",
    "    if \"unina\" in csv.name:\n",
    "        # Ignore the ones in Italian\n",
    "        continue\n",
    "    df = pd.read_csv(csv).iloc[:, 1:]  # Remove index column\n",
    "    df.insert(0, \"filename\", csv.name)\n",
    "    data.append(df)\n",
    "\n",
    "data = pd.concat(data, ignore_index=True)"
   ]
  },
  {
   "cell_type": "markdown",
   "id": "8d9676e9-9e59-4516-8730-55f929b5b2db",
   "metadata": {},
   "source": [
    "# Data Cleaning"
   ]
  },
  {
   "cell_type": "code",
   "execution_count": null,
   "id": "c8371666-8289-4983-9e78-a6a6a7c756b0",
   "metadata": {},
   "outputs": [],
   "source": [
    "data = data.replace(\n",
    "    r\"\\r+|\\n+|\\t+\", \" \", regex=True\n",
    ")  # Replace tabs/newlines/carriage returns with plain space\n",
    "for col in data.columns:\n",
    "    data[col] = data[col].str.strip()\n",
    "\n",
    "# Remove all the data points with debate title or node text null or empty\n",
    "data = data[\n",
    "    data.debate_title.notnull()\n",
    "    & (data.debate_title.str.strip() != \"\")\n",
    "    & data.node_text.notnull()\n",
    "    & (data.node_text.str.strip() != \"\")\n",
    "]\n",
    "\n",
    "data.info()"
   ]
  },
  {
   "cell_type": "code",
   "execution_count": null,
   "id": "4de13486-8040-42cd-abcb-d78364716c3d",
   "metadata": {},
   "outputs": [],
   "source": [
    "node_type_map = {\n",
    "    \"POSITION\": \"Position\",\n",
    "    \"OPPOSING ARGUMENT\": \"Attack\",\n",
    "    \"SUPPORTING ARGUMENT\": \"Support\",\n",
    "}\n",
    "\n",
    "data[\"mapped_node_type\"] = data[\"node_type\"].map(node_type_map)"
   ]
  },
  {
   "cell_type": "markdown",
   "id": "576e1587-0259-412f-8f11-effb977f22cd",
   "metadata": {},
   "source": [
    "## Clearing invalid debates\n",
    "\n",
    "Remove all debates that were built for testing, have less than 5 nodes or aren't in English."
   ]
  },
  {
   "cell_type": "code",
   "execution_count": null,
   "id": "2f6f7b71-5ead-4717-9e85-bc9f37ee6a00",
   "metadata": {},
   "outputs": [],
   "source": [
    "debate_count = data[\"debate_id\"].value_counts()\n",
    "invalid_debate = debate_count[debate_count < 5].index.to_list()"
   ]
  },
  {
   "cell_type": "code",
   "execution_count": null,
   "id": "277b4033-fc60-43a7-8151-0e1d9ea71aad",
   "metadata": {},
   "outputs": [],
   "source": [
    "valid_data = data[~data[\"debate_id\"].isin(invalid_debate)]\n",
    "valid_data.head()"
   ]
  },
  {
   "cell_type": "code",
   "execution_count": null,
   "id": "50b3bede-2482-4434-bde7-203e25d922bf",
   "metadata": {},
   "outputs": [],
   "source": [
    "debate_titles = valid_data[\"debate_title\"].value_counts().reset_index()\n",
    "with pd.option_context(\"display.max_colwidth\", None):\n",
    "    display(debate_titles)"
   ]
  },
  {
   "cell_type": "markdown",
   "id": "baf55d17-4a96-4289-9fdf-0285b012a068",
   "metadata": {},
   "source": [
    "Remove the \"test\" debates and the one in greek."
   ]
  },
  {
   "cell_type": "code",
   "execution_count": null,
   "id": "a42889b1-5820-4665-ad27-361239e5d887",
   "metadata": {},
   "outputs": [],
   "source": [
    "invalid_titles = debate_titles.loc[[5, 10, 11], \"debate_title\"]\n",
    "valid_data = valid_data[~valid_data[\"debate_title\"].isin(invalid_titles)]"
   ]
  },
  {
   "cell_type": "code",
   "execution_count": null,
   "id": "f17f33c5-4b26-4194-aef3-8f03756da89a",
   "metadata": {},
   "outputs": [],
   "source": [
    "valid_data.info()"
   ]
  },
  {
   "cell_type": "code",
   "execution_count": null,
   "id": "d08b5ee1-d29f-4bc8-8853-562e4746bf51",
   "metadata": {},
   "outputs": [],
   "source": [
    "valid_data.filename.value_counts()"
   ]
  },
  {
   "cell_type": "markdown",
   "id": "73696227-309f-4735-b4a0-02d1da74fa7e",
   "metadata": {},
   "source": [
    "## Transformation\n",
    "\n",
    "We proceed to transform this data into a more standard dataset"
   ]
  },
  {
   "cell_type": "code",
   "execution_count": null,
   "id": "9abf3a4f-1932-44ec-af89-0e136b670c34",
   "metadata": {},
   "outputs": [],
   "source": [
    "with open(DATA_PATH / \"bcause-data.jl\", \"wt\") as fh:\n",
    "    for nidx, node in valid_data.iterrows():\n",
    "        clean_node = {\n",
    "            \"dataset\": \"bcause\",\n",
    "            \"id\": node[\"node_id\"],\n",
    "            \"text\": unicodedata.normalize(\"NFKD\", \" \".join(node[\"node_text\"].strip().split())),\n",
    "            \"metadata\": {\n",
    "                \"filename\": node[\"filename\"],\n",
    "                \"author\": node[\"node_author_id\"],\n",
    "                \"debate\": node[\"debate_title\"],\n",
    "                \"type\": node[\"mapped_node_type\"],\n",
    "                \"related_to\": node[\"node_connected_to\"],\n",
    "            },\n",
    "        }\n",
    "        print(json.dumps(clean_node), file=fh)"
   ]
  },
  {
   "cell_type": "markdown",
   "id": "b893200e-0181-48db-a955-cc4718d08a22",
   "metadata": {},
   "source": [
    "# Building relationship dataset"
   ]
  },
  {
   "cell_type": "code",
   "execution_count": null,
   "id": "7affffd3-450e-4840-ac0d-76779e5fb1a2",
   "metadata": {},
   "outputs": [],
   "source": [
    "relationships = []\n",
    "\n",
    "for position in tqdm(\n",
    "    data[data.node_type == \"POSITION\"].itertuples(),\n",
    "    total=data[data.node_type == \"POSITION\"].shape[0],\n",
    "):\n",
    "    for relation in data[data.node_connected_to == position.node_id].itertuples():\n",
    "        relationships.append(\n",
    "            {\n",
    "                \"filename\": position.filename,\n",
    "                \"debate_id\": position.debate_id,\n",
    "                \"debate_title\": position.debate_title,\n",
    "                \"position_id\": position.node_id,\n",
    "                \"position_text\": position.node_text,\n",
    "                \"argument_id\": relation.node_id,\n",
    "                \"argument_text\": relation.node_text,\n",
    "                \"relation\": relation.node_type,\n",
    "            }\n",
    "        )\n",
    "\n",
    "    for non_relation in data[\n",
    "        (data.filename == position.filename)\n",
    "        & (data.debate_id == position.debate_id)\n",
    "        & (data.node_connected_to != position.node_id)\n",
    "    ].itertuples():\n",
    "        relationships.append(\n",
    "            {\n",
    "                \"filename\": position.filename,\n",
    "                \"debate_id\": position.debate_id,\n",
    "                \"debate_title\": position.debate_title,\n",
    "                \"position_id\": position.node_id,\n",
    "                \"position_text\": position.node_text,\n",
    "                \"argument_id\": non_relation.node_id,\n",
    "                \"argument_text\": non_relation.node_text,\n",
    "                \"relation\": \"NO RELATION\",\n",
    "            }\n",
    "        )\n",
    "\n",
    "relationships = pd.DataFrame(relationships)\n",
    "relationships.info()"
   ]
  },
  {
   "cell_type": "code",
   "execution_count": null,
   "id": "b997bc9d-8afd-4cb6-9012-ebcded469072",
   "metadata": {},
   "outputs": [],
   "source": [
    "relationships = relationships.drop_duplicates(\n",
    "    subset=[\"debate_id\", \"position_id\", \"argument_id\", \"relation\"]\n",
    ")\n",
    "relationships.relation.value_counts()"
   ]
  },
  {
   "cell_type": "code",
   "execution_count": null,
   "id": "7f068d58-78fd-40c0-b675-3383292b6c22",
   "metadata": {},
   "outputs": [],
   "source": [
    "relevant_relationships = relationships[relationships.relation != \"NO RELATION\"].reset_index(\n",
    "    drop=True\n",
    ")\n",
    "relevant_test_relations = relevant_relationships[\n",
    "    relevant_relationships[\"filename\"].str.contains(\"alpha\")\n",
    "]\n",
    "relevant_val_relations = relevant_relationships[\n",
    "    relevant_relationships[\"filename\"].str.contains(\"beta\")\n",
    "]\n",
    "relevant_train_relations = relevant_relationships.loc[\n",
    "    ~relevant_relationships.index.isin(\n",
    "        relevant_test_relations.index.union(relevant_val_relations.index)\n",
    "    )\n",
    "]"
   ]
  },
  {
   "cell_type": "code",
   "execution_count": null,
   "id": "00087b03-a017-491d-b4c1-db379b012fe9",
   "metadata": {},
   "outputs": [],
   "source": [
    "irrelevant_relationships = relationships[relationships.relation == \"NO RELATION\"].reset_index(\n",
    "    drop=True\n",
    ")\n",
    "\n",
    "irrelevant_test_relations = irrelevant_relationships[\n",
    "    irrelevant_relationships[\"filename\"].str.contains(\"alpha\")\n",
    "]\n",
    "irrelevant_val_relations = irrelevant_relationships[\n",
    "    irrelevant_relationships[\"filename\"].str.contains(\"beta\")\n",
    "]\n",
    "irrelevant_train_relations = irrelevant_relationships.loc[\n",
    "    ~irrelevant_relationships.index.isin(\n",
    "        irrelevant_test_relations.index.union(irrelevant_val_relations.index)\n",
    "    )\n",
    "]"
   ]
  },
  {
   "cell_type": "code",
   "execution_count": null,
   "id": "f788d2d5-a25a-4ff6-8981-1e7a4651b869",
   "metadata": {},
   "outputs": [],
   "source": [
    "irrelevant_test_relations = irrelevant_test_relations.sample(\n",
    "    frac=relevant_test_relations.shape[0] * 10.5 / irrelevant_test_relations.shape[0],\n",
    "    random_state=43,\n",
    ")\n",
    "irrelevant_val_relations = irrelevant_val_relations.sample(\n",
    "    frac=relevant_val_relations.shape[0] * 10.5 / irrelevant_val_relations.shape[0], random_state=42\n",
    ")\n",
    "irrelevant_train_relations = irrelevant_train_relations.sample(\n",
    "    frac=relevant_train_relations.shape[0] * 10.5 / irrelevant_train_relations.shape[0],\n",
    "    random_state=42,\n",
    ")"
   ]
  },
  {
   "cell_type": "code",
   "execution_count": null,
   "id": "e31cc5c2-7f69-46df-8497-b87cf1105131",
   "metadata": {},
   "outputs": [],
   "source": [
    "test_relations = pd.concat([relevant_test_relations, irrelevant_test_relations]).sample(frac=1)\n",
    "test_relations.insert(0, \"split\", \"test\")\n",
    "\n",
    "val_relations = pd.concat([relevant_val_relations, irrelevant_val_relations]).sample(frac=1)\n",
    "val_relations.insert(0, \"split\", \"validation\")\n",
    "\n",
    "train_relations = pd.concat([relevant_train_relations, irrelevant_train_relations]).sample(frac=1)\n",
    "train_relations.insert(0, \"split\", \"train\")\n",
    "\n",
    "full_relations_dataset = pd.concat(\n",
    "    [train_relations, test_relations, val_relations], ignore_index=True\n",
    ")\n",
    "full_relations_dataset.groupby([\"split\", \"relation\"]).size()"
   ]
  },
  {
   "cell_type": "code",
   "execution_count": null,
   "id": "ac1c4655-b59f-4da3-bf4e-1538f62583a8",
   "metadata": {},
   "outputs": [],
   "source": [
    "RELATIONS_MAP = {\n",
    "    \"NO RELATION\": \"__label__noRel\",\n",
    "    \"OPPOSING ARGUMENT\": \"__label__Attack\",\n",
    "    \"SUPPORTING ARGUMENT\": \"__label__Support\",\n",
    "}\n",
    "\n",
    "full_relations_dataset[\"mapped_relation\"] = full_relations_dataset.relation.map(RELATIONS_MAP)\n",
    "full_relations_dataset.groupby([\"split\", \"mapped_relation\"]).size()"
   ]
  },
  {
   "cell_type": "code",
   "execution_count": null,
   "id": "1f863a2a-adba-4e09-ab3d-f7808330189f",
   "metadata": {},
   "outputs": [],
   "source": [
    "full_relations_dataset.info()"
   ]
  },
  {
   "cell_type": "code",
   "execution_count": null,
   "id": "06b5bcc1-3c96-4d2e-9ad4-b24bd0e33310",
   "metadata": {},
   "outputs": [],
   "source": [
    "full_relations_dataset.to_csv(DATA_PATH / \"clean/bcause-gamma-full.csv\", index=False)"
   ]
  },
  {
   "cell_type": "code",
   "execution_count": null,
   "id": "52baff8d-4032-4ca5-8eab-c753823e3625",
   "metadata": {},
   "outputs": [],
   "source": [
    "full_relations_dataset.loc[\n",
    "    full_relations_dataset[\"split\"] == \"train\",\n",
    "    [\"mapped_relation\", \"position_text\", \"argument_text\"],\n",
    "].to_csv(\n",
    "    \"../data/bcause/clean/train.tsv\",\n",
    "    sep=\"\\t\",\n",
    "    index=False,\n",
    "    header=False,  # , quoting=csv.QUOTE_NONE\n",
    ")"
   ]
  },
  {
   "cell_type": "code",
   "execution_count": null,
   "id": "6b6a41e0-d9fd-4a5f-b919-78e6527854bf",
   "metadata": {},
   "outputs": [],
   "source": [
    "full_relations_dataset.loc[\n",
    "    full_relations_dataset[\"split\"] == \"test\", [\"mapped_relation\", \"position_text\", \"argument_text\"]\n",
    "].to_csv(\n",
    "    \"../data/bcause/clean/test.tsv\", sep=\"\\t\", index=False, header=False  # , quoting=csv.QUOTE_NONE\n",
    ")"
   ]
  },
  {
   "cell_type": "code",
   "execution_count": null,
   "id": "dc581fcd-1e4d-4fe7-9ba0-2037d81b07ed",
   "metadata": {},
   "outputs": [],
   "source": [
    "full_relations_dataset.loc[\n",
    "    full_relations_dataset[\"split\"] == \"validation\",\n",
    "    [\"mapped_relation\", \"position_text\", \"argument_text\"],\n",
    "].to_csv(\n",
    "    \"../data/bcause/clean/validation.tsv\",\n",
    "    sep=\"\\t\",\n",
    "    index=False,\n",
    "    header=False,  # , quoting=csv.QUOTE_NONE\n",
    ")"
   ]
  }
 ],
 "metadata": {
  "kernelspec": {
   "display_name": "Python 3 (ipykernel)",
   "language": "python",
   "name": "python3"
  },
  "language_info": {
   "codemirror_mode": {
    "name": "ipython",
    "version": 3
   },
   "file_extension": ".py",
   "mimetype": "text/x-python",
   "name": "python",
   "nbconvert_exporter": "python",
   "pygments_lexer": "ipython3",
   "version": "3.11.1"
  }
 },
 "nbformat": 4,
 "nbformat_minor": 5
}
