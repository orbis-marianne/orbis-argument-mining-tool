{
 "cells": [
  {
   "cell_type": "code",
   "execution_count": 1,
   "id": "10eedfbe-51e1-4fab-9734-47f9894cdf24",
   "metadata": {},
   "outputs": [],
   "source": [
    "import csv\n",
    "import json\n",
    "import pandas as pd\n",
    "\n",
    "from IPython.display import display\n",
    "from pathlib import Path\n",
    "from tqdm.notebook import tqdm"
   ]
  },
  {
   "cell_type": "code",
   "execution_count": 2,
   "id": "6a54231b-4470-4ddc-b59a-85519697e89d",
   "metadata": {},
   "outputs": [],
   "source": [
    "DATA_PATH = Path(\"../../data/bcause/\")"
   ]
  },
  {
   "cell_type": "code",
   "execution_count": 3,
   "id": "267ed9a6-53a2-48e1-ad10-9eb66d33b34e",
   "metadata": {},
   "outputs": [],
   "source": [
    "data = []\n",
    "\n",
    "for csv in sorted(DATA_PATH.glob(\"raw/*.csv\")):\n",
    "    if 'unina' in csv.name:\n",
    "        continue\n",
    "    df = pd.read_csv(csv).iloc[:, 1:]  # Remove index column\n",
    "    df.insert(0, 'filename', csv.name)\n",
    "    data.append(df)\n",
    "\n",
    "data = pd.concat(data, ignore_index=True)\n",
    "data = data.replace(r'\\r+|\\n+|\\t+', ' ', regex=True)\n",
    "for col in data.columns:\n",
    "    data[col] = data[col].str.strip()"
   ]
  },
  {
   "cell_type": "code",
   "execution_count": 4,
   "id": "b0587416-2330-4186-8d2f-33412fb7f292",
   "metadata": {},
   "outputs": [
    {
     "name": "stdout",
     "output_type": "stream",
     "text": [
      "<class 'pandas.core.frame.DataFrame'>\n",
      "Index: 10162 entries, 0 to 10345\n",
      "Data columns (total 8 columns):\n",
      " #   Column             Non-Null Count  Dtype \n",
      "---  ------             --------------  ----- \n",
      " 0   filename           10162 non-null  object\n",
      " 1   debate_id          10162 non-null  object\n",
      " 2   debate_title       10162 non-null  object\n",
      " 3   node_type          10162 non-null  object\n",
      " 4   node_id            10162 non-null  object\n",
      " 5   node_text          10162 non-null  object\n",
      " 6   node_author_id     10162 non-null  object\n",
      " 7   node_connected_to  5497 non-null   object\n",
      "dtypes: object(8)\n",
      "memory usage: 714.5+ KB\n"
     ]
    }
   ],
   "source": [
    "data = data[\n",
    "    data.debate_title.notnull() & (data.debate_title.str.strip() != '') &\n",
    "    data.node_text.notnull() & (data.node_text.str.strip() != '')\n",
    "]\n",
    "\n",
    "data.info()"
   ]
  },
  {
   "cell_type": "markdown",
   "id": "cf9ac9b1-4a6a-4a1d-a47b-097480a4b05d",
   "metadata": {},
   "source": [
    "# Clearing invalid nodes"
   ]
  },
  {
   "cell_type": "markdown",
   "id": "576e1587-0259-412f-8f11-effb977f22cd",
   "metadata": {},
   "source": [
    "## Clearing invalid debates\n",
    "\n",
    "Remove all debates that were built for testing, have less than 5 nodes or aren't in English."
   ]
  },
  {
   "cell_type": "code",
   "execution_count": 5,
   "id": "2f6f7b71-5ead-4717-9e85-bc9f37ee6a00",
   "metadata": {},
   "outputs": [],
   "source": [
    "debate_count = data[\"debate_id\"].value_counts()\n",
    "invalid_debate = debate_count[debate_count < 5].index.to_list()"
   ]
  },
  {
   "cell_type": "code",
   "execution_count": 6,
   "id": "277b4033-fc60-43a7-8151-0e1d9ea71aad",
   "metadata": {},
   "outputs": [
    {
     "data": {
      "text/html": [
       "<div>\n",
       "<style scoped>\n",
       "    .dataframe tbody tr th:only-of-type {\n",
       "        vertical-align: middle;\n",
       "    }\n",
       "\n",
       "    .dataframe tbody tr th {\n",
       "        vertical-align: top;\n",
       "    }\n",
       "\n",
       "    .dataframe thead th {\n",
       "        text-align: right;\n",
       "    }\n",
       "</style>\n",
       "<table border=\"1\" class=\"dataframe\">\n",
       "  <thead>\n",
       "    <tr style=\"text-align: right;\">\n",
       "      <th></th>\n",
       "      <th>filename</th>\n",
       "      <th>debate_id</th>\n",
       "      <th>debate_title</th>\n",
       "      <th>node_type</th>\n",
       "      <th>node_id</th>\n",
       "      <th>node_text</th>\n",
       "      <th>node_author_id</th>\n",
       "      <th>node_connected_to</th>\n",
       "    </tr>\n",
       "  </thead>\n",
       "  <tbody>\n",
       "    <tr>\n",
       "      <th>0</th>\n",
       "      <td>bcause-alpha.json_CONVERTED.csv</td>\n",
       "      <td>-M_1YNLl74hj1-KvS_vL</td>\n",
       "      <td>How Can Manmade Climate Change Be Reversed? Is...</td>\n",
       "      <td>POSITION</td>\n",
       "      <td>-M_1YdSI2g-N2cgAzDU-</td>\n",
       "      <td>It may be technically possible to reverse clim...</td>\n",
       "      <td>HlM8jStvA6X6JAdYpN7TdcF7m2Q2</td>\n",
       "      <td>NaN</td>\n",
       "    </tr>\n",
       "    <tr>\n",
       "      <th>1</th>\n",
       "      <td>bcause-alpha.json_CONVERTED.csv</td>\n",
       "      <td>-M_1YNLl74hj1-KvS_vL</td>\n",
       "      <td>How Can Manmade Climate Change Be Reversed? Is...</td>\n",
       "      <td>OPPOSING ARGUMENT</td>\n",
       "      <td>-M_1Z58ayAjsmDKcxncU</td>\n",
       "      <td>We cannot invest trillions in an attempt to re...</td>\n",
       "      <td>euDhKeMgqUbYY2MK3vII7neGM1k2</td>\n",
       "      <td>-M_1YdSI2g-N2cgAzDU-</td>\n",
       "    </tr>\n",
       "    <tr>\n",
       "      <th>2</th>\n",
       "      <td>bcause-alpha.json_CONVERTED.csv</td>\n",
       "      <td>-M_1YNLl74hj1-KvS_vL</td>\n",
       "      <td>How Can Manmade Climate Change Be Reversed? Is...</td>\n",
       "      <td>SUPPORTING ARGUMENT</td>\n",
       "      <td>-M_1ZXSxGhCsmP__58E7</td>\n",
       "      <td>If governments around the world treat climate ...</td>\n",
       "      <td>ihxtSIQaIxdIw3qmHIhNM61dtZk2</td>\n",
       "      <td>-M_1YdSI2g-N2cgAzDU-</td>\n",
       "    </tr>\n",
       "    <tr>\n",
       "      <th>3</th>\n",
       "      <td>bcause-alpha.json_CONVERTED.csv</td>\n",
       "      <td>-M_1YNLl74hj1-KvS_vL</td>\n",
       "      <td>How Can Manmade Climate Change Be Reversed? Is...</td>\n",
       "      <td>SUPPORTING ARGUMENT</td>\n",
       "      <td>-M_1aE5oVKIC93azEXKq</td>\n",
       "      <td>Every year that passes we lose tools or opport...</td>\n",
       "      <td>NbZpWoDgerQ8HQMLyq01Mfa4FsY2</td>\n",
       "      <td>-M_1YdSI2g-N2cgAzDU-</td>\n",
       "    </tr>\n",
       "    <tr>\n",
       "      <th>4</th>\n",
       "      <td>bcause-alpha.json_CONVERTED.csv</td>\n",
       "      <td>-M_1YNLl74hj1-KvS_vL</td>\n",
       "      <td>How Can Manmade Climate Change Be Reversed? Is...</td>\n",
       "      <td>SUPPORTING ARGUMENT</td>\n",
       "      <td>-MamJpJaEdukwsdyTjts</td>\n",
       "      <td>It is getter harder year by year by still poss...</td>\n",
       "      <td>isW1tQXDFghR8sdBcIUCJ5xiQSC3</td>\n",
       "      <td>-M_1YdSI2g-N2cgAzDU-</td>\n",
       "    </tr>\n",
       "  </tbody>\n",
       "</table>\n",
       "</div>"
      ],
      "text/plain": [
       "                          filename             debate_id  \\\n",
       "0  bcause-alpha.json_CONVERTED.csv  -M_1YNLl74hj1-KvS_vL   \n",
       "1  bcause-alpha.json_CONVERTED.csv  -M_1YNLl74hj1-KvS_vL   \n",
       "2  bcause-alpha.json_CONVERTED.csv  -M_1YNLl74hj1-KvS_vL   \n",
       "3  bcause-alpha.json_CONVERTED.csv  -M_1YNLl74hj1-KvS_vL   \n",
       "4  bcause-alpha.json_CONVERTED.csv  -M_1YNLl74hj1-KvS_vL   \n",
       "\n",
       "                                        debate_title            node_type  \\\n",
       "0  How Can Manmade Climate Change Be Reversed? Is...             POSITION   \n",
       "1  How Can Manmade Climate Change Be Reversed? Is...    OPPOSING ARGUMENT   \n",
       "2  How Can Manmade Climate Change Be Reversed? Is...  SUPPORTING ARGUMENT   \n",
       "3  How Can Manmade Climate Change Be Reversed? Is...  SUPPORTING ARGUMENT   \n",
       "4  How Can Manmade Climate Change Be Reversed? Is...  SUPPORTING ARGUMENT   \n",
       "\n",
       "                node_id                                          node_text  \\\n",
       "0  -M_1YdSI2g-N2cgAzDU-  It may be technically possible to reverse clim...   \n",
       "1  -M_1Z58ayAjsmDKcxncU  We cannot invest trillions in an attempt to re...   \n",
       "2  -M_1ZXSxGhCsmP__58E7  If governments around the world treat climate ...   \n",
       "3  -M_1aE5oVKIC93azEXKq  Every year that passes we lose tools or opport...   \n",
       "4  -MamJpJaEdukwsdyTjts  It is getter harder year by year by still poss...   \n",
       "\n",
       "                 node_author_id     node_connected_to  \n",
       "0  HlM8jStvA6X6JAdYpN7TdcF7m2Q2                   NaN  \n",
       "1  euDhKeMgqUbYY2MK3vII7neGM1k2  -M_1YdSI2g-N2cgAzDU-  \n",
       "2  ihxtSIQaIxdIw3qmHIhNM61dtZk2  -M_1YdSI2g-N2cgAzDU-  \n",
       "3  NbZpWoDgerQ8HQMLyq01Mfa4FsY2  -M_1YdSI2g-N2cgAzDU-  \n",
       "4  isW1tQXDFghR8sdBcIUCJ5xiQSC3  -M_1YdSI2g-N2cgAzDU-  "
      ]
     },
     "execution_count": 6,
     "metadata": {},
     "output_type": "execute_result"
    }
   ],
   "source": [
    "valid_data = data[~data[\"debate_id\"].isin(invalid_debate)]\n",
    "valid_data.head()"
   ]
  },
  {
   "cell_type": "code",
   "execution_count": 7,
   "id": "50b3bede-2482-4434-bde7-203e25d922bf",
   "metadata": {},
   "outputs": [
    {
     "data": {
      "text/html": [
       "<div>\n",
       "<style scoped>\n",
       "    .dataframe tbody tr th:only-of-type {\n",
       "        vertical-align: middle;\n",
       "    }\n",
       "\n",
       "    .dataframe tbody tr th {\n",
       "        vertical-align: top;\n",
       "    }\n",
       "\n",
       "    .dataframe thead th {\n",
       "        text-align: right;\n",
       "    }\n",
       "</style>\n",
       "<table border=\"1\" class=\"dataframe\">\n",
       "  <thead>\n",
       "    <tr style=\"text-align: right;\">\n",
       "      <th></th>\n",
       "      <th>debate_title</th>\n",
       "      <th>count</th>\n",
       "    </tr>\n",
       "  </thead>\n",
       "  <tbody>\n",
       "    <tr>\n",
       "      <th>0</th>\n",
       "      <td>How can we fairly reduce hate speech from newspapers websites without eliminating space for readers comments?</td>\n",
       "      <td>9424</td>\n",
       "    </tr>\n",
       "    <tr>\n",
       "      <th>1</th>\n",
       "      <td>How Can Manmade Climate Change Be Reversed? Is that even possible?</td>\n",
       "      <td>352</td>\n",
       "    </tr>\n",
       "    <tr>\n",
       "      <th>2</th>\n",
       "      <td>Do the priorities of development and decarbonisation of heritage buildings need to be adjusted in the light of the climate emergency?</td>\n",
       "      <td>112</td>\n",
       "    </tr>\n",
       "    <tr>\n",
       "      <th>3</th>\n",
       "      <td>Do you think removing the comment space from newspapers website is a fair choice to reduce hate speech?</td>\n",
       "      <td>79</td>\n",
       "    </tr>\n",
       "    <tr>\n",
       "      <th>4</th>\n",
       "      <td>What are the key factors influencing the fairness of filtering mechanisms to reduce hate speech?</td>\n",
       "      <td>31</td>\n",
       "    </tr>\n",
       "    <tr>\n",
       "      <th>5</th>\n",
       "      <td>Testing-DDIS</td>\n",
       "      <td>26</td>\n",
       "    </tr>\n",
       "    <tr>\n",
       "      <th>6</th>\n",
       "      <td>Should all humans go vegan?</td>\n",
       "      <td>23</td>\n",
       "    </tr>\n",
       "    <tr>\n",
       "      <th>7</th>\n",
       "      <td>Should we be worried about AI technologies?</td>\n",
       "      <td>17</td>\n",
       "    </tr>\n",
       "    <tr>\n",
       "      <th>8</th>\n",
       "      <td>Why is diversity crucial in environmental issues and what can we do to achieve it?</td>\n",
       "      <td>12</td>\n",
       "    </tr>\n",
       "    <tr>\n",
       "      <th>9</th>\n",
       "      <td>How to make \"Living With COVID\" more than an empty political slogan?</td>\n",
       "      <td>12</td>\n",
       "    </tr>\n",
       "    <tr>\n",
       "      <th>10</th>\n",
       "      <td>Why is diversity crucial in environmental issues and what can we do to achieve it? [TEST]</td>\n",
       "      <td>10</td>\n",
       "    </tr>\n",
       "    <tr>\n",
       "      <th>11</th>\n",
       "      <td>Θα έπρεπε να πληρώνουμε για να έχουμε ιδιοκτησία των προσωπικών μας δεδομένων στα ΜΚΔ;</td>\n",
       "      <td>10</td>\n",
       "    </tr>\n",
       "    <tr>\n",
       "      <th>12</th>\n",
       "      <td>What are the latest great news form COP2026</td>\n",
       "      <td>9</td>\n",
       "    </tr>\n",
       "    <tr>\n",
       "      <th>13</th>\n",
       "      <td>How do we build knowledge and understanding and share it?</td>\n",
       "      <td>9</td>\n",
       "    </tr>\n",
       "    <tr>\n",
       "      <th>14</th>\n",
       "      <td>Should we adopt the new gender pronouns such as ji, zi,...?</td>\n",
       "      <td>6</td>\n",
       "    </tr>\n",
       "  </tbody>\n",
       "</table>\n",
       "</div>"
      ],
      "text/plain": [
       "                                                                                                                             debate_title  \\\n",
       "0                           How can we fairly reduce hate speech from newspapers websites without eliminating space for readers comments?   \n",
       "1                                                                      How Can Manmade Climate Change Be Reversed? Is that even possible?   \n",
       "2   Do the priorities of development and decarbonisation of heritage buildings need to be adjusted in the light of the climate emergency?   \n",
       "3                                 Do you think removing the comment space from newspapers website is a fair choice to reduce hate speech?   \n",
       "4                                        What are the key factors influencing the fairness of filtering mechanisms to reduce hate speech?   \n",
       "5                                                                                                                            Testing-DDIS   \n",
       "6                                                                                                             Should all humans go vegan?   \n",
       "7                                                                                             Should we be worried about AI technologies?   \n",
       "8                                                      Why is diversity crucial in environmental issues and what can we do to achieve it?   \n",
       "9                                                                    How to make \"Living With COVID\" more than an empty political slogan?   \n",
       "10                                              Why is diversity crucial in environmental issues and what can we do to achieve it? [TEST]   \n",
       "11                                                 Θα έπρεπε να πληρώνουμε για να έχουμε ιδιοκτησία των προσωπικών μας δεδομένων στα ΜΚΔ;   \n",
       "12                                                                                            What are the latest great news form COP2026   \n",
       "13                                                                              How do we build knowledge and understanding and share it?   \n",
       "14                                                                            Should we adopt the new gender pronouns such as ji, zi,...?   \n",
       "\n",
       "    count  \n",
       "0    9424  \n",
       "1     352  \n",
       "2     112  \n",
       "3      79  \n",
       "4      31  \n",
       "5      26  \n",
       "6      23  \n",
       "7      17  \n",
       "8      12  \n",
       "9      12  \n",
       "10     10  \n",
       "11     10  \n",
       "12      9  \n",
       "13      9  \n",
       "14      6  "
      ]
     },
     "metadata": {},
     "output_type": "display_data"
    }
   ],
   "source": [
    "debate_titles = valid_data[\"debate_title\"].value_counts().reset_index()\n",
    "with pd.option_context(\"display.max_colwidth\", None):\n",
    "    display(debate_titles)"
   ]
  },
  {
   "cell_type": "markdown",
   "id": "baf55d17-4a96-4289-9fdf-0285b012a068",
   "metadata": {},
   "source": [
    "Remove the \"test\" debates and the one in greek."
   ]
  },
  {
   "cell_type": "code",
   "execution_count": 8,
   "id": "a42889b1-5820-4665-ad27-361239e5d887",
   "metadata": {},
   "outputs": [],
   "source": [
    "invalid_titles = debate_titles.loc[[5, 10, 11], \"debate_title\"]\n",
    "valid_data = valid_data[~valid_data[\"debate_title\"].isin(invalid_titles)]"
   ]
  },
  {
   "cell_type": "code",
   "execution_count": 9,
   "id": "f17f33c5-4b26-4194-aef3-8f03756da89a",
   "metadata": {},
   "outputs": [
    {
     "name": "stdout",
     "output_type": "stream",
     "text": [
      "<class 'pandas.core.frame.DataFrame'>\n",
      "Index: 10086 entries, 0 to 10345\n",
      "Data columns (total 8 columns):\n",
      " #   Column             Non-Null Count  Dtype \n",
      "---  ------             --------------  ----- \n",
      " 0   filename           10086 non-null  object\n",
      " 1   debate_id          10086 non-null  object\n",
      " 2   debate_title       10086 non-null  object\n",
      " 3   node_type          10086 non-null  object\n",
      " 4   node_id            10086 non-null  object\n",
      " 5   node_text          10086 non-null  object\n",
      " 6   node_author_id     10086 non-null  object\n",
      " 7   node_connected_to  5457 non-null   object\n",
      "dtypes: object(8)\n",
      "memory usage: 709.2+ KB\n"
     ]
    }
   ],
   "source": [
    "valid_data.info()"
   ]
  },
  {
   "cell_type": "code",
   "execution_count": 10,
   "id": "d08b5ee1-d29f-4bc8-8853-562e4746bf51",
   "metadata": {},
   "outputs": [
    {
     "data": {
      "text/plain": [
       "filename\n",
       "bcause-exp-gamma.json_CONVERTED.csv      2031\n",
       "bcause-exp-beta.json_CONVERTED.csv       1954\n",
       "bcause-exp-delta.json_CONVERTED.csv      1948\n",
       "bcause-exp-epsilon.json_CONVERTED.csv    1815\n",
       "bcause-exp-theta.json_CONVERTED.csv      1676\n",
       "bcause-alpha.json_CONVERTED.csv           662\n",
       "Name: count, dtype: int64"
      ]
     },
     "execution_count": 10,
     "metadata": {},
     "output_type": "execute_result"
    }
   ],
   "source": [
    "valid_data.filename.value_counts()"
   ]
  },
  {
   "cell_type": "markdown",
   "id": "73696227-309f-4735-b4a0-02d1da74fa7e",
   "metadata": {},
   "source": [
    "## Transformation\n",
    "\n",
    "We proceed to transform this data into a more standard dataset"
   ]
  },
  {
   "cell_type": "code",
   "execution_count": 11,
   "id": "9abf3a4f-1932-44ec-af89-0e136b670c34",
   "metadata": {},
   "outputs": [],
   "source": [
    "with open(DATA_PATH / \"bcause-data.jl\", \"wt\") as fh:\n",
    "    for nidx, node in valid_data.iterrows():\n",
    "        clean_node = {\n",
    "            \"dataset\": \"bcause\",\n",
    "            \"id\": node[\"node_id\"],\n",
    "            \"author\": node[\"node_author_id\"],\n",
    "            \"text\": node[\"node_text\"],\n",
    "            \"metadata\": {\n",
    "                \"filename\": node[\"filename\"],\n",
    "                \"debate\": node[\"debate_title\"],\n",
    "                \"type\": node[\"node_type\"],\n",
    "                \"related_to\": node[\"node_connected_to\"]\n",
    "            }\n",
    "        }\n",
    "        print(json.dumps(clean_node), file=fh)"
   ]
  },
  {
   "cell_type": "markdown",
   "id": "b893200e-0181-48db-a955-cc4718d08a22",
   "metadata": {},
   "source": [
    "# Building relationship dataset"
   ]
  },
  {
   "cell_type": "code",
   "execution_count": null,
   "id": "7affffd3-450e-4840-ac0d-76779e5fb1a2",
   "metadata": {},
   "outputs": [],
   "source": [
    "relationships = []\n",
    "\n",
    "for position in tqdm(data[data.node_type == 'POSITION'].itertuples(), total=data[data.node_type == 'POSITION'].shape[0]):\n",
    "    for relation in data[data.node_connected_to == position.node_id].itertuples():\n",
    "        relationships.append({\n",
    "            \"filename\": position.filename,\n",
    "            \"debate_id\": position.debate_id,\n",
    "            \"debate_title\": position.debate_title,\n",
    "            \"position_id\": position.node_id,\n",
    "            \"position_text\": position.node_text,\n",
    "            \"argument_id\": relation.node_id,\n",
    "            \"argument_text\": relation.node_text,\n",
    "            \"relation\": relation.node_type\n",
    "        })\n",
    "\n",
    "    for non_relation in data[\n",
    "            (data.filename == position.filename) &\n",
    "            (data.debate_id == position.debate_id) &\n",
    "            (data.node_connected_to != position.node_id)].itertuples():\n",
    "        relationships.append({\n",
    "            \"filename\": position.filename,\n",
    "            \"debate_id\": position.debate_id,\n",
    "            \"debate_title\": position.debate_title,\n",
    "            \"position_id\": position.node_id,\n",
    "            \"position_text\": position.node_text,\n",
    "            \"argument_id\": non_relation.node_id,\n",
    "            \"argument_text\": non_relation.node_text,\n",
    "            \"relation\": \"NO RELATION\"\n",
    "        })\n",
    "\n",
    "relationships = pd.DataFrame(relationships)\n",
    "relationships.info()"
   ]
  },
  {
   "cell_type": "code",
   "execution_count": null,
   "id": "b997bc9d-8afd-4cb6-9012-ebcded469072",
   "metadata": {},
   "outputs": [],
   "source": [
    "relationships = relationships.drop_duplicates(subset=['debate_id', 'position_id', 'argument_id', 'relation'])\n",
    "relationships.relation.value_counts()"
   ]
  },
  {
   "cell_type": "code",
   "execution_count": null,
   "id": "7f068d58-78fd-40c0-b675-3383292b6c22",
   "metadata": {},
   "outputs": [],
   "source": [
    "relevant_relationships = relationships[relationships.relation != 'NO RELATION'].reset_index(drop=True)\n",
    "relevant_test_relations = relevant_relationships[relevant_relationships['filename'].str.contains('alpha')]\n",
    "relevant_val_relations = relevant_relationships[relevant_relationships['filename'].str.contains('beta')]\n",
    "relevant_train_relations = relevant_relationships.loc[\n",
    "    ~relevant_relationships.index.isin(relevant_test_relations.index.union(relevant_val_relations.index))\n",
    "]"
   ]
  },
  {
   "cell_type": "code",
   "execution_count": null,
   "id": "00087b03-a017-491d-b4c1-db379b012fe9",
   "metadata": {},
   "outputs": [],
   "source": [
    "irrelevant_relationships = relationships[relationships.relation == 'NO RELATION'].reset_index(drop=True)\n",
    "\n",
    "irrelevant_test_relations = irrelevant_relationships[irrelevant_relationships['filename'].str.contains('alpha')]\n",
    "irrelevant_val_relations = irrelevant_relationships[irrelevant_relationships['filename'].str.contains('beta')]\n",
    "irrelevant_train_relations = irrelevant_relationships.loc[\n",
    "    ~irrelevant_relationships.index.isin(irrelevant_test_relations.index.union(irrelevant_val_relations.index))\n",
    "]"
   ]
  },
  {
   "cell_type": "code",
   "execution_count": null,
   "id": "f788d2d5-a25a-4ff6-8981-1e7a4651b869",
   "metadata": {},
   "outputs": [],
   "source": [
    "irrelevant_test_relations = irrelevant_test_relations.sample(\n",
    "    frac=relevant_test_relations.shape[0] * 10.5 / irrelevant_test_relations.shape[0], random_state=43)\n",
    "irrelevant_val_relations = irrelevant_val_relations.sample(\n",
    "    frac=relevant_val_relations.shape[0] * 10.5 / irrelevant_val_relations.shape[0], random_state=42)\n",
    "irrelevant_train_relations = irrelevant_train_relations.sample(\n",
    "    frac=relevant_train_relations.shape[0] * 10.5 / irrelevant_train_relations.shape[0], random_state=42)"
   ]
  },
  {
   "cell_type": "code",
   "execution_count": null,
   "id": "e31cc5c2-7f69-46df-8497-b87cf1105131",
   "metadata": {},
   "outputs": [],
   "source": [
    "test_relations = pd.concat([relevant_test_relations, irrelevant_test_relations]).sample(frac=1)\n",
    "test_relations.insert(0, 'split', 'test')\n",
    "\n",
    "val_relations = pd.concat([relevant_val_relations, irrelevant_val_relations]).sample(frac=1)\n",
    "val_relations.insert(0, 'split', 'validation')\n",
    "\n",
    "train_relations = pd.concat([relevant_train_relations, irrelevant_train_relations]).sample(frac=1)\n",
    "train_relations.insert(0, 'split', 'train')\n",
    "\n",
    "full_relations_dataset = pd.concat([train_relations, test_relations, val_relations], ignore_index=True)\n",
    "full_relations_dataset.groupby(['split', 'relation']).size()"
   ]
  },
  {
   "cell_type": "code",
   "execution_count": null,
   "id": "ac1c4655-b59f-4da3-bf4e-1538f62583a8",
   "metadata": {},
   "outputs": [],
   "source": [
    "RELATIONS_MAP = {\n",
    "    'NO RELATION': '__label__noRel',\n",
    "    'OPPOSING ARGUMENT': '__label__Attack',\n",
    "    'SUPPORTING ARGUMENT': '__label__Support'\n",
    "}\n",
    "\n",
    "full_relations_dataset['mapped_relation'] = full_relations_dataset.relation.map(RELATIONS_MAP)\n",
    "full_relations_dataset.groupby(['split', 'mapped_relation']).size()"
   ]
  },
  {
   "cell_type": "code",
   "execution_count": null,
   "id": "1f863a2a-adba-4e09-ab3d-f7808330189f",
   "metadata": {},
   "outputs": [],
   "source": [
    "full_relations_dataset.info()"
   ]
  },
  {
   "cell_type": "code",
   "execution_count": null,
   "id": "06b5bcc1-3c96-4d2e-9ad4-b24bd0e33310",
   "metadata": {},
   "outputs": [],
   "source": [
    "full_relations_dataset.to_csv(DATA_PATH / \"clean/bcause-gamma-full.csv\", index=False)"
   ]
  },
  {
   "cell_type": "code",
   "execution_count": null,
   "id": "52baff8d-4032-4ca5-8eab-c753823e3625",
   "metadata": {},
   "outputs": [],
   "source": [
    "full_relations_dataset.loc[full_relations_dataset['split'] == 'train', ['mapped_relation', 'position_text', 'argument_text']].to_csv(\n",
    "    '../data/bcause/clean/train.tsv', sep=\"\\t\", index=False, header=False#, quoting=csv.QUOTE_NONE\n",
    ")"
   ]
  },
  {
   "cell_type": "code",
   "execution_count": null,
   "id": "6b6a41e0-d9fd-4a5f-b919-78e6527854bf",
   "metadata": {},
   "outputs": [],
   "source": [
    "full_relations_dataset.loc[full_relations_dataset['split'] == 'test', ['mapped_relation', 'position_text', 'argument_text']].to_csv(\n",
    "    '../data/bcause/clean/test.tsv', sep=\"\\t\", index=False, header=False#, quoting=csv.QUOTE_NONE\n",
    ")"
   ]
  },
  {
   "cell_type": "code",
   "execution_count": null,
   "id": "dc581fcd-1e4d-4fe7-9ba0-2037d81b07ed",
   "metadata": {},
   "outputs": [],
   "source": [
    "full_relations_dataset.loc[full_relations_dataset['split'] == 'validation', ['mapped_relation', 'position_text', 'argument_text']].to_csv(\n",
    "    '../data/bcause/clean/validation.tsv', sep=\"\\t\", index=False, header=False#, quoting=csv.QUOTE_NONE\n",
    ")"
   ]
  }
 ],
 "metadata": {
  "kernelspec": {
   "display_name": "Python 3 (ipykernel)",
   "language": "python",
   "name": "python3"
  },
  "language_info": {
   "codemirror_mode": {
    "name": "ipython",
    "version": 3
   },
   "file_extension": ".py",
   "mimetype": "text/x-python",
   "name": "python",
   "nbconvert_exporter": "python",
   "pygments_lexer": "ipython3",
   "version": "3.10.8"
  }
 },
 "nbformat": 4,
 "nbformat_minor": 5
}
