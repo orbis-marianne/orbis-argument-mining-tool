{
 "cells": [
  {
   "cell_type": "markdown",
   "id": "d99aa174-63ee-401e-900d-72b1f6c97bfe",
   "metadata": {},
   "source": [
    "# Notebook to Preprocess the Data From Touche23-ValueEval Dataset\n",
    "\n",
    "This is the dataset from the [Task of Semeval](https://touche.webis.de/semeval23/touche23-web/). We only use the subgroups A, D and E."
   ]
  },
  {
   "cell_type": "code",
   "execution_count": null,
   "id": "71d75947-9ee5-4c6e-854c-b32d9b51c110",
   "metadata": {},
   "outputs": [],
   "source": [
    "import json\n",
    "import pandas as pd\n",
    "\n",
    "from pathlib import Path\n",
    "from xxhash import xxh64_hexdigest"
   ]
  },
  {
   "cell_type": "code",
   "execution_count": null,
   "id": "b8a4c80b-da87-434c-939a-b49b1eec5bb5",
   "metadata": {},
   "outputs": [],
   "source": [
    "def hash_text(text: str) -> str:\n",
    "    \"\"\"\n",
    "    Helper function to clean and hash text in order to avoid duplications with minor changes.\n",
    "    \"\"\"\n",
    "    text = \"\".join(text.strip().lower().split())\n",
    "    return xxh64_hexdigest(text, seed=42)"
   ]
  },
  {
   "cell_type": "code",
   "execution_count": null,
   "id": "1fedb605-6f8c-4e19-a362-04545904369d",
   "metadata": {},
   "outputs": [],
   "source": [
    "DATA_DIR = Path(\"../../data/touche23-valueeval/\")"
   ]
  },
  {
   "cell_type": "code",
   "execution_count": null,
   "id": "0bffe07f-5a84-426b-90aa-da33eae34b46",
   "metadata": {},
   "outputs": [],
   "source": [
    "train_data = pd.read_csv(DATA_DIR / \"raw/arguments-training.tsv\", sep=\"\\t\")\n",
    "dev_data = pd.read_csv(DATA_DIR / \"raw/arguments-validation.tsv\", sep=\"\\t\")\n",
    "test_data = pd.read_csv(DATA_DIR / \"raw/arguments-test.tsv\", sep=\"\\t\")"
   ]
  },
  {
   "cell_type": "code",
   "execution_count": null,
   "id": "ced391a9-3b68-4c50-817c-e641d2f21748",
   "metadata": {},
   "outputs": [],
   "source": [
    "train_data[\"split\"] = \"train\"\n",
    "test_data[\"split\"] = \"test\"\n",
    "dev_data[\"split\"] = \"validation\"\n",
    "\n",
    "dataset = pd.concat([train_data, test_data, dev_data], ignore_index=True)\n",
    "dataset.head()"
   ]
  },
  {
   "cell_type": "markdown",
   "id": "9a63ac23-3f64-4e74-8ed3-b2bd24151e4c",
   "metadata": {},
   "source": [
    "# Map Stance to Relation"
   ]
  },
  {
   "cell_type": "code",
   "execution_count": null,
   "id": "e470c88a-9999-4392-ae61-cd94ed2cc3ae",
   "metadata": {},
   "outputs": [],
   "source": [
    "stance_map = {\n",
    "    \"against\": \"Attack\",\n",
    "    \"in favor of\": \"Support\",\n",
    "}\n",
    "\n",
    "dataset[\"relation\"] = dataset[\"Stance\"].map(stance_map)\n",
    "dataset.head()"
   ]
  },
  {
   "cell_type": "markdown",
   "id": "e02d0bdc-c8dd-4ca0-8c7d-27a0e108d785",
   "metadata": {},
   "source": [
    "# Build IDs"
   ]
  },
  {
   "cell_type": "code",
   "execution_count": null,
   "id": "35de3e48-080a-4e56-b017-c7df4c917e65",
   "metadata": {},
   "outputs": [],
   "source": [
    "dataset[\"conclusion_id\"] = dataset[\"Conclusion\"].map(hash_text)\n",
    "dataset[\"premise_id\"] = dataset[\"Premise\"].map(hash_text)\n",
    "dataset.head()"
   ]
  },
  {
   "cell_type": "markdown",
   "id": "d5cbed01-2df1-469f-8e55-2b221d80d00b",
   "metadata": {},
   "source": [
    "# Save Dataset"
   ]
  },
  {
   "cell_type": "code",
   "execution_count": null,
   "id": "d62aea6d-3a24-4a9d-a79c-458a6c5b73e4",
   "metadata": {},
   "outputs": [],
   "source": [
    "with open(DATA_DIR / \"touche23-data.jl\", \"wt\") as fh:\n",
    "    for conclusion_id, conclusion_df in dataset.groupby(\"conclusion_id\"):\n",
    "        conclusion_node = {\n",
    "            \"dataset\": \"touche-23\",\n",
    "            \"id\": conclusion_id,\n",
    "            \"text\": conclusion_df.iloc[0, 1],\n",
    "            \"metadata\": {\n",
    "                \"subdataset\": conclusion_df.iloc[0, 0][\n",
    "                    0\n",
    "                ],  # The first letter of the Argument ID reveals the subdataset\n",
    "                \"type\": \"Position\",\n",
    "            },\n",
    "        }\n",
    "        print(json.dumps(conclusion_node), file=fh)\n",
    "\n",
    "        for pidx, premise in conclusion_df.iterrows():\n",
    "            premise_node = {\n",
    "                \"dataset\": \"cofe\",\n",
    "                \"id\": premise[\"premise_id\"],\n",
    "                \"text\": premise[\"Premise\"],\n",
    "                \"metadata\": {\n",
    "                    \"argument_id\": premise[\"Argument ID\"],\n",
    "                    \"subdataset\": premise[\"Argument ID\"][0],\n",
    "                    \"related_to\": conclusion_id,\n",
    "                    \"original_split\": premise[\"split\"],\n",
    "                    \"type\": premise[\"relation\"],\n",
    "                },\n",
    "            }\n",
    "            print(json.dumps(premise_node), file=fh)"
   ]
  }
 ],
 "metadata": {
  "kernelspec": {
   "display_name": "Python 3 (ipykernel)",
   "language": "python",
   "name": "python3"
  },
  "language_info": {
   "codemirror_mode": {
    "name": "ipython",
    "version": 3
   },
   "file_extension": ".py",
   "mimetype": "text/x-python",
   "name": "python",
   "nbconvert_exporter": "python",
   "pygments_lexer": "ipython3",
   "version": "3.11.1"
  }
 },
 "nbformat": 4,
 "nbformat_minor": 5
}
