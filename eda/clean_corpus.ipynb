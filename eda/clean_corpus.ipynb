{
 "cells": [
  {
   "cell_type": "markdown",
   "id": "22715acd-b181-4e38-89c2-770f749ab854",
   "metadata": {},
   "source": [
    "# Clean Corpus Compilation"
   ]
  },
  {
   "cell_type": "code",
   "execution_count": 1,
   "id": "4f69074c-1721-46a0-9fce-fcf571838b3e",
   "metadata": {},
   "outputs": [],
   "source": [
    "import json\n",
    "\n",
    "from pathlib import Path\n",
    "from xxhash import xxh64_hexdigest"
   ]
  },
  {
   "cell_type": "code",
   "execution_count": 2,
   "id": "260b201a-87fc-4fdd-bff1-5d1fb8ee6ed6",
   "metadata": {},
   "outputs": [],
   "source": [
    "SP_DIR = Path(\"../../data/swedish-parliament/\")\n",
    "TA_DIR = Path(\"../../data/taejae/\")"
   ]
  },
  {
   "cell_type": "code",
   "execution_count": 3,
   "id": "df7d926f-75c4-4b5b-9257-b72669bafdd0",
   "metadata": {},
   "outputs": [],
   "source": [
    "def hash_text(text: str) -> str:\n",
    "    text = ''.join(text.strip().lower().split())\n",
    "    return xxh64_hexdigest(text, seed=42)"
   ]
  },
  {
   "cell_type": "code",
   "execution_count": 4,
   "id": "8de12e29-1d30-4439-937f-aa3724b48e01",
   "metadata": {},
   "outputs": [],
   "source": [
    "def clean_corpus(directory, output_filename, dataset):\n",
    "    with open(directory / output_filename, \"wt\") as fho:\n",
    "        for input_file in sorted((directory / \"clean\").glob(\"*.json\")):\n",
    "            with open(input_file, \"rt\") as fhi:\n",
    "                data = json.load(fhi)\n",
    "        \n",
    "            for lidx, line in enumerate(data, start=1):\n",
    "                clean_node = {\n",
    "                    \"dataset\": dataset,\n",
    "                    \"id\": hash_text(line[\"speaker\"] + line[\"text\"]),\n",
    "                    \"author\": line[\"speaker\"],\n",
    "                    \"text\": line[\"text\"],\n",
    "                    \"metadata\": {\n",
    "                        \"debate\": input_file.name.replace(\".json\", \"\"),\n",
    "                        \"line\": lidx\n",
    "                    }\n",
    "                }\n",
    "                print(json.dumps(clean_node), file=fho)"
   ]
  },
  {
   "cell_type": "code",
   "execution_count": 5,
   "id": "c51d5720-353c-42dd-884d-1a743cc5f23e",
   "metadata": {},
   "outputs": [],
   "source": [
    "clean_corpus(SP_DIR, \"swedish-parliament-data.jl\", \"swedish-parliament\")\n",
    "clean_corpus(TA_DIR, \"taejae-academy-data.jl\", \"taejae-academy\")"
   ]
  }
 ],
 "metadata": {
  "kernelspec": {
   "display_name": "Python 3 (ipykernel)",
   "language": "python",
   "name": "python3"
  },
  "language_info": {
   "codemirror_mode": {
    "name": "ipython",
    "version": 3
   },
   "file_extension": ".py",
   "mimetype": "text/x-python",
   "name": "python",
   "nbconvert_exporter": "python",
   "pygments_lexer": "ipython3",
   "version": "3.10.8"
  }
 },
 "nbformat": 4,
 "nbformat_minor": 5
}
