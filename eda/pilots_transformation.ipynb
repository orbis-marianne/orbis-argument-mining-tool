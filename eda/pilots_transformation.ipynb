{
 "cells": [
  {
   "cell_type": "code",
   "execution_count": null,
   "id": "2e032583-2695-4d93-93c0-04eb16771db4",
   "metadata": {},
   "outputs": [],
   "source": [
    "import json\n",
    "import unicodedata\n",
    "\n",
    "from pathlib import Path\n",
    "from xxhash import xxh64_hexdigest"
   ]
  },
  {
   "cell_type": "code",
   "execution_count": null,
   "id": "9627a2d0-04bf-4cb9-be46-b628d8c42604",
   "metadata": {},
   "outputs": [],
   "source": [
    "DATA_DIR = Path(\"../../data/\")"
   ]
  },
  {
   "cell_type": "code",
   "execution_count": null,
   "id": "027d6654-8fb2-4853-b9d6-126e3673094d",
   "metadata": {},
   "outputs": [],
   "source": [
    "def hash_text(text: str) -> str:\n",
    "    text = ''.join(text.strip().lower().split())\n",
    "    return xxh64_hexdigest(text, seed=42)"
   ]
  },
  {
   "cell_type": "markdown",
   "id": "c6f2f7e5-1a26-4174-9825-771349448be9",
   "metadata": {},
   "source": [
    "# RIE"
   ]
  },
  {
   "cell_type": "code",
   "execution_count": null,
   "id": "98b83bdb-8ff6-4a82-9efc-cbddfee7fe43",
   "metadata": {},
   "outputs": [],
   "source": [
    "DATASET = \"rie\"\n",
    "\n",
    "with open(DATA_DIR / DATASET / \"clean\" / f\"{DATASET}-data.jl\", \"wt\") as fho:\n",
    "    for input_file in (DATA_DIR / DATASET / \"raw\").glob(\"*.markdown\"):\n",
    "        with open(input_file, \"rt\") as fhi:\n",
    "            raw_text = [unicodedata.normalize(\"NFKD\", \" \".join(line.strip().split())) for line in fhi.readlines() if line.strip()]\n",
    "    \n",
    "        for lidx, line in enumerate(raw_text, start=1):\n",
    "            speaker, text = line.split(\" \", 1)\n",
    "            speaker = speaker.rstrip(\":\")\n",
    "            node = {\n",
    "                \"dataset\": DATASET,\n",
    "                \"id\": hash_text(speaker + text),\n",
    "                \"author\": speaker,\n",
    "                \"text\": text,\n",
    "                \"metadata\": {\n",
    "                    \"file\": input_file.name.split(\".\")[0],\n",
    "                    \"line\": lidx\n",
    "                }\n",
    "            }\n",
    "\n",
    "            print(json.dumps(node), file=fho)"
   ]
  },
  {
   "cell_type": "markdown",
   "id": "ff4319b0-86be-4407-abbe-1e38f3a8edb9",
   "metadata": {},
   "source": [
    "# CEPS"
   ]
  },
  {
   "cell_type": "code",
   "execution_count": null,
   "id": "7ffbff85-d306-43cc-955c-987c3ffea0c8",
   "metadata": {},
   "outputs": [],
   "source": [
    "DATASET = \"ceps\"\n",
    "\n",
    "def get_clean_section_node(node, dataset, document, section, nodeidx, **kwargs):\n",
    "    return {\n",
    "        \"dataset\": dataset,\n",
    "        \"id\": hash_text(node[\"author\"] + node[\"text\"]),\n",
    "        \"author\": node[\"author\"],\n",
    "        \"text\": node[\"text\"],\n",
    "        \"metadata\": {\n",
    "            \"nidx\": nodeidx,\n",
    "            \"document\": document[\"document\"],\n",
    "            \"debate\": document[\"debate\"],\n",
    "            \"conclusion\": document[\"conclusion\"],\n",
    "            \"section\": section,\n",
    "            **kwargs\n",
    "        }\n",
    "    }\n",
    "        \n",
    "\n",
    "with open(DATA_DIR / DATASET / \"clean\" / f\"{DATASET}-data.jl\", \"wt\") as fho, open(DATA_DIR / DATASET / \"raw\" / \"ceps.json\", \"rt\") as fhi:\n",
    "    ceps_raw = json.load(fhi)\n",
    "\n",
    "    for document in ceps_raw:\n",
    "        node_idx = 1\n",
    "        for nodeidx, node in enumerate(document[\"opening\"], start=node_idx):\n",
    "            clean_node = get_clean_section_node(node, DATASET, document, \"opening\", nodeidx, stance=node[\"stance\"])\n",
    "            print(json.dumps(clean_node), file=fho)\n",
    "        node_idx = nodeidx + 1\n",
    "\n",
    "        for nodeidx, node in enumerate(document[\"rebuttal\"], start=node_idx):\n",
    "            clean_node = get_clean_section_node(node, DATASET, document, \"rebuttal\", nodeidx, stance=node[\"stance\"])\n",
    "            print(json.dumps(clean_node), file=fho)\n",
    "        node_idx = nodeidx + 1\n",
    "\n",
    "        for nodeidx, node in enumerate(document[\"questions\"], start=node_idx):\n",
    "            clean_node = get_clean_section_node(node, DATASET, document, \"questions\", nodeidx,\n",
    "                                                type=node[\"type\"], to=node[\"to\"])\n",
    "            print(json.dumps(clean_node), file=fho)\n",
    "        node_idx = nodeidx + 1\n",
    "\n",
    "        for nodeidx, node in enumerate(document[\"closing\"], start=node_idx):\n",
    "            clean_node = get_clean_section_node(node, DATASET, document, \"closing\", nodeidx, stance=node[\"stance\"])\n",
    "            print(json.dumps(clean_node), file=fho)"
   ]
  }
 ],
 "metadata": {
  "kernelspec": {
   "display_name": "Python 3 (ipykernel)",
   "language": "python",
   "name": "python3"
  },
  "language_info": {
   "codemirror_mode": {
    "name": "ipython",
    "version": 3
   },
   "file_extension": ".py",
   "mimetype": "text/x-python",
   "name": "python",
   "nbconvert_exporter": "python",
   "pygments_lexer": "ipython3",
   "version": "3.11.1"
  }
 },
 "nbformat": 4,
 "nbformat_minor": 5
}
