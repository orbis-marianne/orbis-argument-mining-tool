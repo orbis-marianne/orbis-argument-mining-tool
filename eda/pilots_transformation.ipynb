{
 "cells": [
  {
   "cell_type": "markdown",
   "id": "aef718ed-4041-4b06-83f2-35ad2cd41386",
   "metadata": {},
   "source": [
    "# Pilots Transformations\n",
    "\n",
    "This is the notebook that process and transforms the Pilots data."
   ]
  },
  {
   "cell_type": "code",
   "execution_count": null,
   "id": "2e032583-2695-4d93-93c0-04eb16771db4",
   "metadata": {},
   "outputs": [],
   "source": [
    "import json\n",
    "import unicodedata\n",
    "\n",
    "from pathlib import Path\n",
    "from xxhash import xxh64_hexdigest"
   ]
  },
  {
   "cell_type": "code",
   "execution_count": null,
   "id": "9627a2d0-04bf-4cb9-be46-b628d8c42604",
   "metadata": {},
   "outputs": [],
   "source": [
    "DATA_DIR = Path(\"../../data/\")"
   ]
  },
  {
   "cell_type": "code",
   "execution_count": null,
   "id": "027d6654-8fb2-4853-b9d6-126e3673094d",
   "metadata": {},
   "outputs": [],
   "source": [
    "def hash_text(text: str) -> str:\n",
    "    text = \"\".join(text.strip().lower().split())\n",
    "    return xxh64_hexdigest(text, seed=42)"
   ]
  },
  {
   "cell_type": "markdown",
   "id": "ff4319b0-86be-4407-abbe-1e38f3a8edb9",
   "metadata": {},
   "source": [
    "# CEPS"
   ]
  },
  {
   "cell_type": "code",
   "execution_count": null,
   "id": "7ffbff85-d306-43cc-955c-987c3ffea0c8",
   "metadata": {},
   "outputs": [],
   "source": [
    "DATASET = \"ceps\"\n",
    "\n",
    "\n",
    "def get_clean_section_node(node, dataset, document, section, nodeidx, **kwargs):\n",
    "    return {\n",
    "        \"dataset\": dataset,\n",
    "        \"id\": hash_text(node[\"author\"] + node[\"text\"]),\n",
    "        \"text\": node[\"text\"],\n",
    "        \"metadata\": {\n",
    "            \"nidx\": nodeidx,\n",
    "            \"author\": node[\"author\"],\n",
    "            \"document\": document[\"document\"],\n",
    "            \"debate\": document[\"debate\"],\n",
    "            \"conclusion\": document[\"conclusion\"],\n",
    "            \"section\": section,\n",
    "            **kwargs,\n",
    "        },\n",
    "    }\n",
    "\n",
    "\n",
    "with (\n",
    "    open(DATA_DIR / DATASET / f\"{DATASET}-data.jl\", \"wt\") as fho,\n",
    "    open(DATA_DIR / DATASET / \"clean\" / \"ceps.json\", \"rt\") as fhi,\n",
    "):\n",
    "    ceps_raw = json.load(fhi)\n",
    "\n",
    "    for document in ceps_raw:\n",
    "        node_idx = 1\n",
    "        for nodeidx, node in enumerate(document[\"opening\"], start=node_idx):\n",
    "            clean_node = get_clean_section_node(\n",
    "                node, DATASET, document, \"opening\", nodeidx, stance=node[\"stance\"]\n",
    "            )\n",
    "            print(json.dumps(clean_node), file=fho)\n",
    "        node_idx = nodeidx + 1\n",
    "\n",
    "        for nodeidx, node in enumerate(document[\"rebuttal\"], start=node_idx):\n",
    "            clean_node = get_clean_section_node(\n",
    "                node, DATASET, document, \"rebuttal\", nodeidx, stance=node[\"stance\"]\n",
    "            )\n",
    "            print(json.dumps(clean_node), file=fho)\n",
    "        node_idx = nodeidx + 1\n",
    "\n",
    "        for nodeidx, node in enumerate(document[\"questions\"], start=node_idx):\n",
    "            clean_node = get_clean_section_node(\n",
    "                node, DATASET, document, \"questions\", nodeidx, type=node[\"type\"], to=node[\"to\"]\n",
    "            )\n",
    "            print(json.dumps(clean_node), file=fho)\n",
    "        node_idx = nodeidx + 1\n",
    "\n",
    "        for nodeidx, node in enumerate(document[\"closing\"], start=node_idx):\n",
    "            clean_node = get_clean_section_node(\n",
    "                node, DATASET, document, \"closing\", nodeidx, stance=node[\"stance\"]\n",
    "            )\n",
    "            print(json.dumps(clean_node), file=fho)"
   ]
  },
  {
   "cell_type": "markdown",
   "id": "c6f2f7e5-1a26-4174-9825-771349448be9",
   "metadata": {},
   "source": [
    "# RIE"
   ]
  },
  {
   "cell_type": "code",
   "execution_count": null,
   "id": "98b83bdb-8ff6-4a82-9efc-cbddfee7fe43",
   "metadata": {},
   "outputs": [],
   "source": [
    "DATASET = \"rie\"\n",
    "\n",
    "with open(DATA_DIR / DATASET / f\"{DATASET}-data.jl\", \"wt\") as fho:\n",
    "    for input_file in (DATA_DIR / DATASET / \"clean\").glob(\"*.markdown\"):\n",
    "        with open(input_file, \"rt\") as fhi:\n",
    "            raw_text = [\n",
    "                unicodedata.normalize(\"NFKD\", \" \".join(line.strip().split()))\n",
    "                for line in fhi.readlines()\n",
    "                if line.strip()\n",
    "            ]\n",
    "\n",
    "        for lidx, line in enumerate(raw_text, start=1):\n",
    "            speaker, text = line.split(\" \", 1)\n",
    "            speaker = speaker.rstrip(\":\")\n",
    "            node = {\n",
    "                \"dataset\": DATASET,\n",
    "                \"id\": hash_text(speaker + text),\n",
    "                \"text\": text,\n",
    "                \"metadata\": {\n",
    "                    \"file\": input_file.name.split(\".\")[0],\n",
    "                    \"author\": speaker,\n",
    "                    \"line\": lidx,\n",
    "                },\n",
    "            }\n",
    "\n",
    "            print(json.dumps(node), file=fho)"
   ]
  },
  {
   "cell_type": "markdown",
   "id": "463b8ad0-1f46-4d05-b41a-6e8ef7d1fe63",
   "metadata": {},
   "source": [
    "# Taejae Academy"
   ]
  },
  {
   "cell_type": "code",
   "execution_count": null,
   "id": "a05887e8-e281-493d-b906-60b4798ab68f",
   "metadata": {},
   "outputs": [],
   "source": [
    "import cssutils\n",
    "\n",
    "from bs4 import BeautifulSoup"
   ]
  },
  {
   "cell_type": "code",
   "execution_count": null,
   "id": "06d4af8f-512a-406f-9d21-2136e6104052",
   "metadata": {},
   "outputs": [],
   "source": [
    "for input_file in (DATA_DIR / \"taejae\" / \"raw\").glob(\"*.html\"):\n",
    "    with open(input_file, \"rt\") as fh:\n",
    "        raw_data = fh.read()\n",
    "        soup = BeautifulSoup(raw_data, \"html.parser\")\n",
    "\n",
    "    css = cssutils.parseString(soup.select(\"style\")[0].encode_contents())\n",
    "    speaker_classes = set()\n",
    "    for rule in css:\n",
    "        if (\n",
    "            rule.type == rule.STYLE_RULE\n",
    "            and rule.selectorText.startswith(\".c\")\n",
    "            and rule.style.fontWeight == \"700\"\n",
    "        ):\n",
    "            speaker_classes.add(rule.selectorText[1:])\n",
    "\n",
    "    document_structure = []\n",
    "    for paragraph in soup.find_all(\"p\"):\n",
    "        document_structure.append(\n",
    "            {\n",
    "                \"text\": unicodedata.normalize(\"NFKD\", \" \".join(paragraph.text.strip().split())),\n",
    "                \"is_name\": paragraph.find(\"span\", class_=speaker_classes),\n",
    "            }\n",
    "        )\n",
    "\n",
    "    parsed_document = []\n",
    "    for paragraph in document_structure:\n",
    "        if paragraph[\"is_name\"]:\n",
    "            parsed_document.append({\"speaker\": paragraph[\"text\"]})\n",
    "        elif len(parsed_document) == 0:\n",
    "            parsed_document.append({\"speaker\": \"N/A\", \"text\": paragraph[\"text\"]})\n",
    "        else:\n",
    "            if \"text\" not in parsed_document[-1]:\n",
    "                parsed_document[-1][\"text\"] = paragraph[\"text\"]\n",
    "            else:\n",
    "                parsed_document[-1][\"text\"] += \" \" + paragraph[\"text\"]\n",
    "\n",
    "    with open(\n",
    "        DATA_DIR / \"taejae\" / \"clean\" / input_file.name.replace(\".html\", \".json\"), \"wt\"\n",
    "    ) as fh:\n",
    "        json.dump(parsed_document, fh)"
   ]
  },
  {
   "cell_type": "code",
   "execution_count": null,
   "id": "37eb61ad-ad47-476c-a8f8-5a7d88a7e2a9",
   "metadata": {},
   "outputs": [],
   "source": [
    "with open(DATA_DIR / \"taejae\" / \"taejae-academy-data.jl\", \"wt\") as fho:\n",
    "    for input_file in sorted((DATA_DIR / \"taejae\" / \"clean\").glob(\"*.json\")):\n",
    "        with open(input_file, \"rt\") as fhi:\n",
    "            data = json.load(fhi)\n",
    "\n",
    "        for lidx, line in enumerate(data, start=1):\n",
    "            clean_node = {\n",
    "                \"dataset\": \"taejae-academy\",\n",
    "                \"id\": hash_text(line[\"speaker\"] + line[\"text\"]),\n",
    "                \"text\": line[\"text\"],\n",
    "                \"metadata\": {\n",
    "                    \"debate\": input_file.name.replace(\".json\", \"\"),\n",
    "                    \"author\": line[\"speaker\"],\n",
    "                    \"line\": lidx,\n",
    "                },\n",
    "            }\n",
    "            print(json.dumps(clean_node), file=fho)"
   ]
  }
 ],
 "metadata": {
  "kernelspec": {
   "display_name": "Python 3 (ipykernel)",
   "language": "python",
   "name": "python3"
  },
  "language_info": {
   "codemirror_mode": {
    "name": "ipython",
    "version": 3
   },
   "file_extension": ".py",
   "mimetype": "text/x-python",
   "name": "python",
   "nbconvert_exporter": "python",
   "pygments_lexer": "ipython3",
   "version": "3.11.1"
  }
 },
 "nbformat": 4,
 "nbformat_minor": 5
}
