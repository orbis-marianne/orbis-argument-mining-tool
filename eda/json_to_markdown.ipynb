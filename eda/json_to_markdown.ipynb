{
 "cells": [
  {
   "cell_type": "code",
   "execution_count": null,
   "id": "d7982909-c99d-4830-8b20-51731ef4c0eb",
   "metadata": {},
   "outputs": [],
   "source": [
    "import json\n",
    "from pathlib import Path"
   ]
  },
  {
   "cell_type": "code",
   "execution_count": null,
   "id": "dcc5ab99-8750-4711-8900-b7cccd93bf94",
   "metadata": {},
   "outputs": [],
   "source": [
    "INPUT_DIR = Path('../data/clean/')"
   ]
  },
  {
   "cell_type": "code",
   "execution_count": null,
   "id": "fe0fe98d-9063-4552-87a6-0b746fc4c62b",
   "metadata": {},
   "outputs": [],
   "source": [
    "for file in INPUT_DIR.glob(\"*/*.json\"):\n",
    "    with open(file, \"rt\") as fh:\n",
    "        document = json.load(fh)\n",
    "\n",
    "    with open(file.parent / file.name.replace(\".json\", \".markdown\"), \"wt\") as fh:\n",
    "        for dialog in document:\n",
    "            speaker_or_timecode = dialog.get(\"speaker\", dialog.get(\"timecode\", \"N/A\"))\n",
    "            print(f\"*{speaker_or_timecode}:* {dialog['text'].rstrip('.')}.\", file=fh)"
   ]
  }
 ],
 "metadata": {
  "kernelspec": {
   "display_name": "Python 3 (ipykernel)",
   "language": "python",
   "name": "python3"
  },
  "language_info": {
   "codemirror_mode": {
    "name": "ipython",
    "version": 3
   },
   "file_extension": ".py",
   "mimetype": "text/x-python",
   "name": "python",
   "nbconvert_exporter": "python",
   "pygments_lexer": "ipython3",
   "version": "3.10.8"
  }
 },
 "nbformat": 4,
 "nbformat_minor": 5
}
