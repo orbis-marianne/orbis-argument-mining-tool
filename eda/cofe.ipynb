{
 "cells": [
  {
   "cell_type": "markdown",
   "id": "d99aa174-63ee-401e-900d-72b1f6c97bfe",
   "metadata": {},
   "source": [
    "# Notebook to Preprocess the Conference for the Future of Europe Dataset"
   ]
  },
  {
   "cell_type": "code",
   "execution_count": null,
   "id": "71d75947-9ee5-4c6e-854c-b32d9b51c110",
   "metadata": {},
   "outputs": [],
   "source": [
    "import json\n",
    "import pandas as pd\n",
    "\n",
    "from pathlib import Path\n",
    "from xxhash import xxh64_hexdigest"
   ]
  },
  {
   "cell_type": "code",
   "execution_count": null,
   "id": "b8a4c80b-da87-434c-939a-b49b1eec5bb5",
   "metadata": {},
   "outputs": [],
   "source": [
    "def hash_text(text: str) -> str:\n",
    "    text = ''.join(text.strip().lower().split())\n",
    "    return xxh64_hexdigest(text, seed=42)"
   ]
  },
  {
   "cell_type": "code",
   "execution_count": null,
   "id": "1fedb605-6f8c-4e19-a362-04545904369d",
   "metadata": {},
   "outputs": [],
   "source": [
    "DATA_DIR = Path(\"../../data/conference-on-the-future-of-europe/\")"
   ]
  },
  {
   "cell_type": "code",
   "execution_count": null,
   "id": "0bffe07f-5a84-426b-90aa-da33eae34b46",
   "metadata": {},
   "outputs": [],
   "source": [
    "train_data = pd.read_csv(DATA_DIR / \"raw/arguments-training.tsv\", sep=\"\\t\")\n",
    "dev_data = pd.read_csv(DATA_DIR / \"raw/arguments-validation.tsv\", sep=\"\\t\")\n",
    "test_data = pd.read_csv(DATA_DIR / \"raw/arguments-test.tsv\", sep=\"\\t\")\n",
    "metadata = pd.read_csv(DATA_DIR / \"raw/meta-arguments-e.tsv\", sep=\"\\t\", index_col=0)"
   ]
  },
  {
   "cell_type": "markdown",
   "id": "83537b63-1958-4dd3-8952-bcd25d9efdcc",
   "metadata": {},
   "source": [
    "# Leave only COFE data"
   ]
  },
  {
   "cell_type": "code",
   "execution_count": null,
   "id": "977615b2-fe5c-418c-b3ce-0771db8569f3",
   "metadata": {},
   "outputs": [],
   "source": [
    "with pd.option_context(\"display.max_colwidth\", None):\n",
    "    display(metadata.head())"
   ]
  },
  {
   "cell_type": "code",
   "execution_count": null,
   "id": "ced391a9-3b68-4c50-817c-e641d2f21748",
   "metadata": {},
   "outputs": [],
   "source": [
    "train_data[\"split\"] = \"train\"\n",
    "test_data[\"split\"] = \"test\"\n",
    "dev_data[\"split\"] = \"validation\"\n",
    "\n",
    "dataset = pd.concat([\n",
    "    train_data[train_data[\"Argument ID\"].isin(metadata.index)],\n",
    "    test_data[test_data[\"Argument ID\"].isin(metadata.index)],\n",
    "    dev_data[dev_data[\"Argument ID\"].isin(metadata.index)],\n",
    "], ignore_index=True)\n",
    "dataset.head()"
   ]
  },
  {
   "cell_type": "markdown",
   "id": "5f97e930-0cd5-4ad4-9cce-cc7b2deda4cb",
   "metadata": {},
   "source": [
    "# Map metadata URLs\n",
    "\n",
    "We use the URL as a kind of identification of the author of a premise"
   ]
  },
  {
   "cell_type": "code",
   "execution_count": null,
   "id": "0387f0b5-fc2c-4147-b404-f1ca3eb374d3",
   "metadata": {},
   "outputs": [],
   "source": [
    "metadata[\"claim_url\"] = metadata[\"URL\"].map(lambda x: x.split(\"?\")[0])\n",
    "metadata[\"premise_author\"] = metadata[\"URL\"].map(lambda x: x.split(\"&\")[0])\n",
    "\n",
    "with pd.option_context(\"display.max_colwidth\", None):\n",
    "    display(metadata[[\"claim_url\", \"premise_author\"]].head())"
   ]
  },
  {
   "cell_type": "markdown",
   "id": "9a63ac23-3f64-4e74-8ed3-b2bd24151e4c",
   "metadata": {},
   "source": [
    "# Map Stance to Relation"
   ]
  },
  {
   "cell_type": "code",
   "execution_count": null,
   "id": "52a2b7e8-5bfb-4dfd-9709-6521211dd673",
   "metadata": {},
   "outputs": [],
   "source": [
    "dataset[\"Stance\"].value_counts()"
   ]
  },
  {
   "cell_type": "code",
   "execution_count": null,
   "id": "e470c88a-9999-4392-ae61-cd94ed2cc3ae",
   "metadata": {},
   "outputs": [],
   "source": [
    "stance_map = {\n",
    "    \"in favor of\": \"SUPPORT\",\n",
    "    \"against\": \"ATTACK\"\n",
    "}\n",
    "\n",
    "dataset[\"relation\"] = dataset[\"Stance\"].map(stance_map)\n",
    "dataset.head()"
   ]
  },
  {
   "cell_type": "markdown",
   "id": "e02d0bdc-c8dd-4ca0-8c7d-27a0e108d785",
   "metadata": {},
   "source": [
    "# Build IDs"
   ]
  },
  {
   "cell_type": "code",
   "execution_count": null,
   "id": "35de3e48-080a-4e56-b017-c7df4c917e65",
   "metadata": {},
   "outputs": [],
   "source": [
    "dataset[\"claim_id\"] = dataset[\"Conclusion\"].map(hash_text)\n",
    "dataset[\"premise_id\"] = dataset[\"Premise\"].map(hash_text)\n",
    "dataset.head()"
   ]
  },
  {
   "cell_type": "markdown",
   "id": "d5cbed01-2df1-469f-8e55-2b221d80d00b",
   "metadata": {},
   "source": [
    "# Save Dataset"
   ]
  },
  {
   "cell_type": "code",
   "execution_count": null,
   "id": "d62aea6d-3a24-4a9d-a79c-458a6c5b73e4",
   "metadata": {},
   "outputs": [],
   "source": [
    "with open(DATA_DIR / \"cofe-data.jl\", \"wt\") as fh:\n",
    "    for claim_id, claim_df in dataset.groupby(\"claim_id\"):\n",
    "        claim_node = {\n",
    "            \"dataset\": \"cofe\",\n",
    "            \"id\": claim_id,\n",
    "            \"author\": metadata.loc[claim_df.iloc[0, 0], \"claim_url\"],\n",
    "            \"text\": claim_df.iloc[0, 1],\n",
    "            \"metadata\": {\n",
    "                \"type\": \"CLAIM\"\n",
    "            }\n",
    "        }\n",
    "        print(json.dumps(claim_node), file=fh)\n",
    "\n",
    "        for pidx, premise in claim_df.iterrows():\n",
    "            premise_node = {\n",
    "                \"dataset\": \"cofe\",\n",
    "                \"id\": premise[\"premise_id\"],\n",
    "                \"author\": metadata.loc[premise[\"Argument ID\"], \"premise_author\"],\n",
    "                \"text\": premise[\"Premise\"],\n",
    "                \"metadata\": {\n",
    "                    \"argument_id\": premise[\"Argument ID\"],\n",
    "                    \"relation\": premise[\"relation\"],\n",
    "                    \"related_to\": claim_id,\n",
    "                    \"split\": premise[\"split\"],\n",
    "                    \"type\": \"PREMISE\"\n",
    "                }\n",
    "            }\n",
    "            print(json.dumps(premise_node), file=fh)"
   ]
  }
 ],
 "metadata": {
  "kernelspec": {
   "display_name": "Python 3 (ipykernel)",
   "language": "python",
   "name": "python3"
  },
  "language_info": {
   "codemirror_mode": {
    "name": "ipython",
    "version": 3
   },
   "file_extension": ".py",
   "mimetype": "text/x-python",
   "name": "python",
   "nbconvert_exporter": "python",
   "pygments_lexer": "ipython3",
   "version": "3.11.1"
  }
 },
 "nbformat": 4,
 "nbformat_minor": 5
}
