{
 "cells": [
  {
   "cell_type": "code",
   "execution_count": null,
   "id": "2e032583-2695-4d93-93c0-04eb16771db4",
   "metadata": {},
   "outputs": [],
   "source": [
    "import json\n",
    "import re\n",
    "import unicodedata\n",
    "\n",
    "from bs4 import BeautifulSoup\n",
    "from pathlib import Path"
   ]
  },
  {
   "cell_type": "code",
   "execution_count": null,
   "id": "9627a2d0-04bf-4cb9-be46-b628d8c42604",
   "metadata": {},
   "outputs": [],
   "source": [
    "INPUT_DIR = Path('../data/transcripts/')\n",
    "OUTPUT_DIR = Path('../data/clean/')\n",
    "TIMECODE = re.compile(r\"^\\d\\d:\\d\\d:\\d\\d:\\d\\d\\s*-\\s*\\d\\d:\\d\\d:\\d\\d:\\d\\d$\")"
   ]
  },
  {
   "cell_type": "code",
   "execution_count": null,
   "id": "98b83bdb-8ff6-4a82-9efc-cbddfee7fe43",
   "metadata": {},
   "outputs": [],
   "source": [
    "for input_file in INPUT_DIR.glob(\"*.html\"):\n",
    "    with open(input_file, 'rt') as fh:\n",
    "        raw_data = fh.read()\n",
    "        soup = BeautifulSoup(raw_data, 'html.parser')\n",
    "\n",
    "    parsed_document = []\n",
    "    for paragraph in soup.find_all(\"p\"):\n",
    "        paragraph_text = unicodedata.normalize(\"NFKD\", ' '.join(paragraph.text.strip().split())).strip()\n",
    "        if paragraph_text == '':\n",
    "            continue\n",
    "        elif TIMECODE.match(paragraph_text):\n",
    "            parsed_document.append({'timecode': paragraph_text})\n",
    "        elif len(parsed_document) == 0:\n",
    "            parsed_document.append({'timecode': 'N/A', 'text': paragraph_text})\n",
    "        else:\n",
    "            if 'text' not in parsed_document[-1]:\n",
    "                parsed_document[-1]['text'] = paragraph_text\n",
    "            else:\n",
    "                parsed_document[-1] ['text'] += ' ' + paragraph_text\n",
    "\n",
    "    with open(OUTPUT_DIR / input_file.name.replace('.html', '.json'), 'wt') as fh:\n",
    "        json.dump(parsed_document, fh)\n",
    "\n",
    "    with open(OUTPUT_DIR / input_file.name.replace('.html', '.markdown'), 'wt') as fh:\n",
    "        for speaker in parsed_document:\n",
    "            print(f\"# {speaker['timecode']}\\n{speaker['text']}\\n\", file=fh)"
   ]
  }
 ],
 "metadata": {
  "kernelspec": {
   "display_name": "Python 3 (ipykernel)",
   "language": "python",
   "name": "python3"
  },
  "language_info": {
   "codemirror_mode": {
    "name": "ipython",
    "version": 3
   },
   "file_extension": ".py",
   "mimetype": "text/x-python",
   "name": "python",
   "nbconvert_exporter": "python",
   "pygments_lexer": "ipython3",
   "version": "3.10.8"
  }
 },
 "nbformat": 4,
 "nbformat_minor": 5
}
