{
 "cells": [
  {
   "cell_type": "code",
   "execution_count": null,
   "id": "cfdff40c-6ebf-4ef2-bbf3-b47d1814b6d3",
   "metadata": {},
   "outputs": [],
   "source": [
    "import cssutils\n",
    "import json\n",
    "import unicodedata\n",
    "\n",
    "from bs4 import BeautifulSoup\n",
    "from pathlib import Path"
   ]
  },
  {
   "cell_type": "code",
   "execution_count": null,
   "id": "2262707b-1ae9-4719-b025-0ea706700dfd",
   "metadata": {},
   "outputs": [],
   "source": [
    "INPUT_DIR = Path('../data/transcripts/')\n",
    "OUTPUT_DIR = Path('../data/clean/')"
   ]
  },
  {
   "cell_type": "code",
   "execution_count": null,
   "id": "c8cc5142-787b-4de9-89c5-cc419b7f39e5",
   "metadata": {},
   "outputs": [],
   "source": [
    "for input_file in INPUT_DIR.glob(\"*.html\"):\n",
    "    with open(input_file, 'rt') as fh:\n",
    "        raw_data = fh.read()\n",
    "        soup = BeautifulSoup(raw_data, 'html.parser')\n",
    "    \n",
    "    css = cssutils.parseString(soup.select('style')[0].encode_contents())\n",
    "    speaker_classes = set()\n",
    "    for rule in css:\n",
    "        if rule.type == rule.STYLE_RULE and rule.selectorText.startswith('.c') and rule.style.fontWeight == '700':\n",
    "            speaker_classes.add(rule.selectorText[1:])\n",
    "    \n",
    "    document_structure = []\n",
    "    for paragraph in soup.find_all('p'):\n",
    "        document_structure.append({\n",
    "            'text':  unicodedata.normalize(\"NFKD\", ' '.join(paragraph.text.strip().split())),\n",
    "            'is_name': paragraph.find('span', class_=speaker_classes)\n",
    "        })\n",
    "\n",
    "    parsed_document = []\n",
    "    for paragraph in document_structure:\n",
    "        if paragraph['is_name']:\n",
    "            parsed_document.append({'speaker': paragraph['text']})\n",
    "        elif len(parsed_document) == 0:\n",
    "            parsed_document.append({'speaker': 'N/A', 'text': paragraph['text']})\n",
    "        else:\n",
    "            if 'text' not in parsed_document[-1]:\n",
    "                parsed_document[-1]['text'] = paragraph['text']\n",
    "            else:\n",
    "                parsed_document[-1]['text'] += ' ' + paragraph['text']\n",
    "\n",
    "    with open(OUTPUT_DIR / input_file.name.replace('.html', '.json'), 'wt') as fh:\n",
    "        json.dump(parsed_document, fh)"
   ]
  }
 ],
 "metadata": {
  "kernelspec": {
   "display_name": "Python 3 (ipykernel)",
   "language": "python",
   "name": "python3"
  },
  "language_info": {
   "codemirror_mode": {
    "name": "ipython",
    "version": 3
   },
   "file_extension": ".py",
   "mimetype": "text/x-python",
   "name": "python",
   "nbconvert_exporter": "python",
   "pygments_lexer": "ipython3",
   "version": "3.10.8"
  }
 },
 "nbformat": 4,
 "nbformat_minor": 5
}
